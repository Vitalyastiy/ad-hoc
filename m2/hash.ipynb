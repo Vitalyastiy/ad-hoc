{
 "cells": [
  {
   "cell_type": "code",
   "execution_count": null,
   "metadata": {},
   "outputs": [],
   "source": [
    "# #SQL\n",
    "# SELECT DISTINCT user_phone\n",
    "# FROM \"DM_AUTH_BI\".\"REGISTRATIONS\"\n",
    "# WHERE report_type IN ('Зарегистрированный пользователь (установлен пароль)')\n",
    "#   AND registration_month >= '2023-12-01'\n",
    "#   AND role = 'CLIENT'\n",
    "#   AND NOT EXISTS (\n",
    "#       SELECT 1 FROM \"MART_ACRM\".\"STOP_LIST\" WHERE phone = user_phone\n",
    "#   )"
   ]
  },
  {
   "cell_type": "code",
   "execution_count": 34,
   "metadata": {},
   "outputs": [],
   "source": [
    "import pandas as pd\n",
    "import hashlib\n",
    "df = pd.read_excel('test_DM_AUTH_BI_REGISTRATIONS.xlsx')"
   ]
  },
  {
   "cell_type": "code",
   "execution_count": 46,
   "metadata": {},
   "outputs": [
    {
     "data": {
      "text/plain": [
       "125839"
      ]
     },
     "metadata": {},
     "output_type": "display_data"
    },
    {
     "data": {
      "text/html": [
       "<div>\n",
       "<style scoped>\n",
       "    .dataframe tbody tr th:only-of-type {\n",
       "        vertical-align: middle;\n",
       "    }\n",
       "\n",
       "    .dataframe tbody tr th {\n",
       "        vertical-align: top;\n",
       "    }\n",
       "\n",
       "    .dataframe thead th {\n",
       "        text-align: right;\n",
       "    }\n",
       "</style>\n",
       "<table border=\"1\" class=\"dataframe\">\n",
       "  <thead>\n",
       "    <tr style=\"text-align: right;\">\n",
       "      <th></th>\n",
       "      <th>user_phone</th>\n",
       "    </tr>\n",
       "  </thead>\n",
       "  <tbody>\n",
       "    <tr>\n",
       "      <th>0</th>\n",
       "      <td>79270988697</td>\n",
       "    </tr>\n",
       "  </tbody>\n",
       "</table>\n",
       "</div>"
      ],
      "text/plain": [
       "    user_phone\n",
       "0  79270988697"
      ]
     },
     "metadata": {},
     "output_type": "display_data"
    }
   ],
   "source": [
    "df['user_phone'] = df['user_phone'].astype(str)\n",
    "df = df[df['user_phone'].str.startswith('79')]\n",
    "display(len(df.user_phone))\n",
    "display(df.head(1))"
   ]
  },
  {
   "cell_type": "code",
   "execution_count": 47,
   "metadata": {},
   "outputs": [],
   "source": [
    "randsamp = df.sample(n=100000, random_state=1)"
   ]
  },
  {
   "cell_type": "code",
   "execution_count": 49,
   "metadata": {},
   "outputs": [],
   "source": [
    "def hash_with_salt(phone_number, salt):\n",
    "    salted_value = salt + phone_number\n",
    "    hashed_value = hashlib.sha256(salted_value.encode()).hexdigest()\n",
    "    return hashed_value"
   ]
  },
  {
   "cell_type": "code",
   "execution_count": 51,
   "metadata": {},
   "outputs": [],
   "source": [
    "salt = 'hj!@ja/'  # Соль\n",
    "randsamp['hashed_phone'] = randsamp['user_phone'].apply(lambda x: hash_with_salt(x, salt))\n",
    "randsamp.to_excel('hash.xlsx', index=False)"
   ]
  },
  {
   "cell_type": "code",
   "execution_count": null,
   "metadata": {},
   "outputs": [],
   "source": []
  }
 ],
 "metadata": {
  "kernelspec": {
   "display_name": "Python 3",
   "language": "python",
   "name": "python3"
  },
  "language_info": {
   "codemirror_mode": {
    "name": "ipython",
    "version": 3
   },
   "file_extension": ".py",
   "mimetype": "text/x-python",
   "name": "python",
   "nbconvert_exporter": "python",
   "pygments_lexer": "ipython3",
   "version": "3.11.4"
  }
 },
 "nbformat": 4,
 "nbformat_minor": 2
}
