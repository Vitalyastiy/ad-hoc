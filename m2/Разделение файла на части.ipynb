{
 "cells": [
  {
   "cell_type": "code",
   "execution_count": 4,
   "metadata": {},
   "outputs": [
    {
     "name": "stdout",
     "output_type": "stream",
     "text": [
      "Размер части 1: 36601 строк\n",
      "Размер части 2: 36601 строк\n",
      "Размер части 3: 36601 строк\n"
     ]
    }
   ],
   "source": [
    "import pandas as pd\n",
    "\n",
    "# Путь к файлу Excel\n",
    "file_path = \"Ипотченые сделки с чатом_ВТБ.xlsx\"\n",
    "\n",
    "# Загрузка файла Excel в объект DataFrame с помощью pandas\n",
    "df = pd.read_excel(file_path)\n",
    "\n",
    "# Получение количества строк в DataFrame\n",
    "num_rows = len(df)\n",
    "\n",
    "# Вычисление количества строк в каждой трети\n",
    "chunk_size = num_rows // 3\n",
    "\n",
    "# Разделение DataFrame на три равные по количеству строк части\n",
    "part1 = df[:chunk_size]\n",
    "part2 = df[chunk_size:chunk_size*2]\n",
    "part3 = df[chunk_size*2:]\n",
    "# сохранить в Excel\n",
    "part1.to_excel('Ч1.xlsx', index=False)\n",
    "part2.to_excel('Ч2.xlsx', index=False)\n",
    "part3.to_excel('Ч3.xlsx', index=False)\n",
    "# Печать размеров каждой части\n",
    "print(f\"Размер части 1: {len(part1)} строк\")\n",
    "print(f\"Размер части 2: {len(part2)} строк\")\n",
    "print(f\"Размер части 3: {len(part3)} строк\")\n"
   ]
  },
  {
   "cell_type": "code",
   "execution_count": null,
   "metadata": {},
   "outputs": [],
   "source": []
  },
  {
   "cell_type": "code",
   "execution_count": null,
   "metadata": {},
   "outputs": [],
   "source": []
  }
 ],
 "metadata": {
  "kernelspec": {
   "display_name": "Python 3",
   "language": "python",
   "name": "python3"
  },
  "language_info": {
   "codemirror_mode": {
    "name": "ipython",
    "version": 3
   },
   "file_extension": ".py",
   "mimetype": "text/x-python",
   "name": "python",
   "nbconvert_exporter": "python",
   "pygments_lexer": "ipython3",
   "version": "3.11.4"
  }
 },
 "nbformat": 4,
 "nbformat_minor": 2
}
