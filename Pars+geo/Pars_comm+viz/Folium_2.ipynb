{
  "cells": [
    {
      "cell_type": "markdown",
      "metadata": {
        "id": "view-in-github",
        "colab_type": "text"
      },
      "source": [
        "<a href=\"https://colab.research.google.com/github/Vitalyastiy/ad-hoc/blob/main/Pars%2Bgeo/Folium_2.ipynb\" target=\"_parent\"><img src=\"https://colab.research.google.com/assets/colab-badge.svg\" alt=\"Open In Colab\"/></a>"
      ]
    },
    {
      "cell_type": "code",
      "execution_count": null,
      "metadata": {
        "id": "G39SQGDilBtr"
      },
      "outputs": [],
      "source": [
        "import folium \n",
        "import pandas as pd\n",
        "from folium.plugins import MarkerCluster\n",
        "import pandas as pd\n",
        "import requests\n",
        "from xml.etree import ElementTree\n",
        "import numpy as np\n",
        "import folium\n",
        "import numpy as np"
      ]
    },
    {
      "cell_type": "code",
      "execution_count": null,
      "metadata": {
        "id": "00eoc2TelBtu"
      },
      "outputs": [],
      "source": [
        "df1= pd.read_excel(r\"C:\\Users\\.....\\yan_1.xlsx\")\n",
        "df1"
      ]
    },
    {
      "cell_type": "code",
      "execution_count": null,
      "metadata": {
        "id": "OQ786nAdlBtv"
      },
      "outputs": [],
      "source": [
        "df2= pd.read_excel(r\"C:\\Users\\.....yan_2.xlsx\")\n",
        "df2"
      ]
    },
    {
      "cell_type": "code",
      "execution_count": null,
      "metadata": {
        "id": "2YD7AD7VlBtw"
      },
      "outputs": [],
      "source": [
        "df2= df2.rename(columns={'addr': 'address'})\n",
        "df2"
      ]
    },
    {
      "cell_type": "code",
      "execution_count": null,
      "metadata": {
        "id": "tXfZKhVvlBtx"
      },
      "outputs": [],
      "source": [
        "df1"
      ]
    },
    {
      "cell_type": "code",
      "execution_count": null,
      "metadata": {
        "id": "7h8Ayl5ZlBtx"
      },
      "outputs": [],
      "source": [
        "df1['Yandex_address'] = df1['Yandex_address'].astype(str)\n"
      ]
    },
    {
      "cell_type": "code",
      "execution_count": null,
      "metadata": {
        "id": "E6oN8RaGlBty"
      },
      "outputs": [],
      "source": [
        "df1 = df1[(df1['Yandex_address'].str.contains('Россия'))]\n",
        "df1"
      ]
    },
    {
      "cell_type": "code",
      "execution_count": null,
      "metadata": {
        "id": "QMDfewzMlBtz"
      },
      "outputs": [],
      "source": [
        "df2['Yandex_address'] = df2['Yandex_address'].astype(str)"
      ]
    },
    {
      "cell_type": "code",
      "execution_count": null,
      "metadata": {
        "id": "gT_vnfCwlBt0"
      },
      "outputs": [],
      "source": [
        "df2 = df2[(df2['Yandex_address'].str.contains('Россия'))]\n",
        "df2"
      ]
    },
    {
      "cell_type": "code",
      "execution_count": null,
      "metadata": {
        "id": "nBLQIqlGlBt1"
      },
      "outputs": [],
      "source": [
        "df_f = pd.concat([df1, df2], ignore_index=True)\n",
        "df_f"
      ]
    },
    {
      "cell_type": "code",
      "execution_count": null,
      "metadata": {
        "id": "eMsnHL4JlBt1"
      },
      "outputs": [],
      "source": [
        "df_np = pd.read_csv(r\"C:\\Users\\....2-12-01_гео\\result_2.csv\",sep=',' , encoding='cp1251' )\n",
        "df_np"
      ]
    },
    {
      "cell_type": "code",
      "execution_count": null,
      "metadata": {
        "id": "kZSgSF5ZlBt2"
      },
      "outputs": [],
      "source": [
        "df_pivot = pd.merge(df_f, df_np, how = 'inner', left_on = ['create_date', 'subs_id'], right_on = ['create_date', 'subs_id'])\n",
        "df_pivot\n",
        "#df_np['create_date'] = df['create_date'].astype(object)"
      ]
    },
    {
      "cell_type": "code",
      "execution_count": null,
      "metadata": {
        "id": "NUUTii7flBt2"
      },
      "outputs": [],
      "source": [
        "df_pivot = df_pivot[['id', 'create_date', 'subs_id', 'address', 'lat', 'lng',\n",
        "       'Yandex_address',  'nps']]"
      ]
    },
    {
      "cell_type": "code",
      "execution_count": null,
      "metadata": {
        "id": "HhYAsLCJlBt3"
      },
      "outputs": [],
      "source": [
        "df_pivot"
      ]
    },
    {
      "cell_type": "code",
      "execution_count": null,
      "metadata": {
        "id": "rkjzRVOBlBt3"
      },
      "outputs": [],
      "source": [
        "df_pivot['subs_id'] = df_pivot['subs_id'].astype(str)\n"
      ]
    },
    {
      "cell_type": "code",
      "execution_count": null,
      "metadata": {
        "id": "J2lJGj7qlBt3"
      },
      "outputs": [],
      "source": [
        "df_pivot['Yandex_address'] = df_pivot['Yandex_address'].astype(str)"
      ]
    },
    {
      "cell_type": "code",
      "execution_count": null,
      "metadata": {
        "id": "BdorkH_slBt4"
      },
      "outputs": [],
      "source": [
        "df_pivot.dtypes"
      ]
    },
    {
      "cell_type": "code",
      "execution_count": null,
      "metadata": {
        "id": "IVAO8jAYlBt4"
      },
      "outputs": [],
      "source": [
        "#data = df_pivot[(df_pivot['Yandex_address'].str.contains('Россия'))]"
      ]
    },
    {
      "cell_type": "code",
      "execution_count": null,
      "metadata": {
        "id": "ezjzx7qNlBt5"
      },
      "outputs": [],
      "source": [
        "#data1 = data[(data['Yandex_address'].str.contains('Россия'))]"
      ]
    },
    {
      "cell_type": "code",
      "execution_count": null,
      "metadata": {
        "id": "yJ2pJMYHlBt5"
      },
      "outputs": [],
      "source": [
        "data = df_pivot\n",
        "data"
      ]
    },
    {
      "cell_type": "code",
      "execution_count": null,
      "metadata": {
        "id": "LxATZkFBlBt5"
      },
      "outputs": [],
      "source": [
        "map = folium.Map(location = [43.09409 , 131.97061], zoom_start = 2, tiles = 'cartodbpositron' ) # вывод карты"
      ]
    },
    {
      "cell_type": "code",
      "execution_count": null,
      "metadata": {
        "id": "7I7p8CTllBt5"
      },
      "outputs": [],
      "source": [
        "locations = data[['lat', 'lng']]\n",
        "elevation = data['nps']\n",
        "subs = data['subs_id']\n",
        "locationlist = locations.values.tolist()\n",
        "#len(locationlist)\n",
        "#locationlist[7]"
      ]
    },
    {
      "cell_type": "code",
      "execution_count": null,
      "metadata": {
        "id": "N_KK-DedlBt6"
      },
      "outputs": [],
      "source": [
        "# пример простого вывода, с кластеризацией\n",
        "map2 = folium.Map(location=[55.62252,37.30162], tiles='CartoDB dark_matter', zoom_start=5)\n",
        "marker_cluster = MarkerCluster().add_to(map2)\n",
        "for point in range(0, len(locationlist)):\n",
        "    folium.Marker(locationlist[point], popup=data['subs_id'][point]).add_to(marker_cluster)\n",
        "map2"
      ]
    },
    {
      "cell_type": "code",
      "execution_count": null,
      "metadata": {
        "id": "LKTZ0iF4lBt6"
      },
      "outputs": [],
      "source": [
        "#добавляем функцию и делим дополнительный столбец с цветом НПС, во фрейм\n",
        "def regioncolors(counter):\n",
        "    if counter ['nps'] > 0:\n",
        "        return 'green'\n",
        "    elif counter ['nps'] < 0:\n",
        "        return'red'\n",
        "    else:\n",
        "        return('gray')"
      ]
    },
    {
      "cell_type": "code",
      "execution_count": null,
      "metadata": {
        "id": "OdnTa6hvlBt6"
      },
      "outputs": [],
      "source": [
        "data[\"color\"] = data.apply(regioncolors, axis=1)\n",
        "data.head()"
      ]
    },
    {
      "cell_type": "code",
      "execution_count": null,
      "metadata": {
        "id": "ImLaf6eqlBt6"
      },
      "outputs": [],
      "source": [
        "#итоговый вывод результата\n",
        "map3 = folium.Map(location=[55.62252,37.30162], tiles='CartoDB dark_matter', zoom_start=5)\n",
        "marker_cluster = MarkerCluster().add_to(map3)\n",
        "\n",
        "for point in range(0, len(locationlist)):\n",
        "    folium.Marker(locationlist[point], popup='ID:'+ ' ' + data['subs_id'][point] + ' ' + data['Yandex_address'][point]  \\\n",
        "        , icon=folium.Icon(color=data['color'][point], icon_color='white', icon='male', angle=0, prefix='fa')).add_to(marker_cluster)  #\n",
        "\n",
        "map3#.save(\"map2.html\")"
      ]
    },
    {
      "cell_type": "code",
      "execution_count": null,
      "metadata": {
        "id": "aVLvnALJlBt7"
      },
      "outputs": [],
      "source": [
        "data"
      ]
    },
    {
      "cell_type": "markdown",
      "metadata": {
        "id": "IHI8V9n7lBt7"
      },
      "source": [
        "ФИК\n"
      ]
    },
    {
      "cell_type": "code",
      "execution_count": null,
      "metadata": {
        "id": "z6YSYIXxlBt8"
      },
      "outputs": [],
      "source": [
        "df=data"
      ]
    },
    {
      "cell_type": "code",
      "execution_count": null,
      "metadata": {
        "id": "4ekEnzAzlBt9"
      },
      "outputs": [],
      "source": [
        "ds= df.groupby('color', dropna=False)['lng'].agg(['count','mean'])\n",
        "ds"
      ]
    },
    {
      "cell_type": "code",
      "execution_count": null,
      "metadata": {
        "id": "FCgRFVDBlBt9",
        "outputId": "d9c35cc2-86fd-44aa-9d88-b37b1050c996"
      },
      "outputs": [
        {
          "name": "stdout",
          "output_type": "stream",
          "text": [
            "interval columns not set, guessing: ['count', 'mean']\n",
            "interval columns not set, guessing: ['count', 'mean']\n",
            "interval columns not set, guessing: ['count', 'mean']\n"
          ]
        },
        {
          "name": "stderr",
          "output_type": "stream",
          "text": [
            "Exception ignored in: <function ZipFile.__del__ at 0x000001A3FE225280>\n",
            "Traceback (most recent call last):\n",
            "  File \"c:\\Users\\vitaly.flerin\\Miniconda3\\lib\\zipfile.py\", line 1816, in __del__\n",
            "    self.close()\n",
            "KeyboardInterrupt: \n"
          ]
        },
        {
          "ename": "FloatingPointError",
          "evalue": "divide by zero encountered in true_divide",
          "output_type": "error",
          "traceback": [
            "\u001b[1;31m---------------------------------------------------------------------------\u001b[0m",
            "\u001b[1;31mFloatingPointError\u001b[0m                        Traceback (most recent call last)",
            "Cell \u001b[1;32mIn [196], line 19\u001b[0m\n\u001b[0;32m     15\u001b[0m ds\u001b[39m.\u001b[39mglobal_phik()\n\u001b[0;32m     17\u001b[0m \u001b[39m# get the significance matrix (expressed as one-sided Z)\u001b[39;00m\n\u001b[0;32m     18\u001b[0m \u001b[39m# of the hypothesis test of each variable-pair dependency\u001b[39;00m\n\u001b[1;32m---> 19\u001b[0m ds\u001b[39m.\u001b[39;49msignificance_matrix()\n\u001b[0;32m     21\u001b[0m \u001b[39m# contingency table of two columns\u001b[39;00m\n\u001b[0;32m     22\u001b[0m cols \u001b[39m=\u001b[39m [\u001b[39m'\u001b[39m\u001b[39mmileage\u001b[39m\u001b[39m'\u001b[39m,\u001b[39m'\u001b[39m\u001b[39mcar_size\u001b[39m\u001b[39m'\u001b[39m]\n",
            "File \u001b[1;32mc:\\Users\\vitaly.flerin\\Miniconda3\\lib\\site-packages\\phik\\significance.py:421\u001b[0m, in \u001b[0;36msignificance_matrix\u001b[1;34m(df, interval_cols, lambda_, simulation_method, nsim, significance_method, bins, dropna, drop_underflow, drop_overflow, verbose, njobs)\u001b[0m\n\u001b[0;32m    415\u001b[0m df_clean, interval_cols_clean \u001b[39m=\u001b[39m dq_check_nunique_values(\n\u001b[0;32m    416\u001b[0m     df, interval_cols, dropna\u001b[39m=\u001b[39mdropna\n\u001b[0;32m    417\u001b[0m )\n\u001b[0;32m    419\u001b[0m data_binned \u001b[39m=\u001b[39m bin_data(df_clean, interval_cols_clean, bins\u001b[39m=\u001b[39mbins)\n\u001b[1;32m--> 421\u001b[0m \u001b[39mreturn\u001b[39;00m significance_from_rebinned_df(\n\u001b[0;32m    422\u001b[0m     data_binned,\n\u001b[0;32m    423\u001b[0m     lambda_\u001b[39m=\u001b[39;49mlambda_,\n\u001b[0;32m    424\u001b[0m     simulation_method\u001b[39m=\u001b[39;49msimulation_method,\n\u001b[0;32m    425\u001b[0m     nsim\u001b[39m=\u001b[39;49mnsim,\n\u001b[0;32m    426\u001b[0m     significance_method\u001b[39m=\u001b[39;49msignificance_method,\n\u001b[0;32m    427\u001b[0m     dropna\u001b[39m=\u001b[39;49mdropna,\n\u001b[0;32m    428\u001b[0m     drop_underflow\u001b[39m=\u001b[39;49mdrop_underflow,\n\u001b[0;32m    429\u001b[0m     drop_overflow\u001b[39m=\u001b[39;49mdrop_overflow,\n\u001b[0;32m    430\u001b[0m     njobs\u001b[39m=\u001b[39;49mnjobs,\n\u001b[0;32m    431\u001b[0m )\n",
            "File \u001b[1;32mc:\\Users\\vitaly.flerin\\Miniconda3\\lib\\site-packages\\phik\\significance.py:352\u001b[0m, in \u001b[0;36msignificance_from_rebinned_df\u001b[1;34m(data_binned, lambda_, simulation_method, nsim, significance_method, dropna, drop_underflow, drop_overflow, njobs)\u001b[0m\n\u001b[0;32m    350\u001b[0m     datahist\u001b[39m.\u001b[39mcolumns \u001b[39m=\u001b[39m datahist\u001b[39m.\u001b[39mcolumns\u001b[39m.\u001b[39mdroplevel()\n\u001b[0;32m    351\u001b[0m     datahist \u001b[39m=\u001b[39m datahist\u001b[39m.\u001b[39mvalues\n\u001b[1;32m--> 352\u001b[0m     pvalue, zvalue \u001b[39m=\u001b[39m significance_from_hist2d(\n\u001b[0;32m    353\u001b[0m         datahist,\n\u001b[0;32m    354\u001b[0m         nsim\u001b[39m=\u001b[39;49mnsim,\n\u001b[0;32m    355\u001b[0m         lambda_\u001b[39m=\u001b[39;49mlambda_,\n\u001b[0;32m    356\u001b[0m         simulation_method\u001b[39m=\u001b[39;49msimulation_method,\n\u001b[0;32m    357\u001b[0m         significance_method\u001b[39m=\u001b[39;49msignificance_method,\n\u001b[0;32m    358\u001b[0m         njobs\u001b[39m=\u001b[39;49mnjobs,\n\u001b[0;32m    359\u001b[0m     )\n\u001b[0;32m    360\u001b[0m     signifs\u001b[39m.\u001b[39mappend((c0, c1, zvalue))\n\u001b[0;32m    362\u001b[0m \u001b[39mif\u001b[39;00m \u001b[39mlen\u001b[39m(signifs) \u001b[39m==\u001b[39m \u001b[39m0\u001b[39m:\n",
            "File \u001b[1;32mc:\\Users\\vitaly.flerin\\Miniconda3\\lib\\site-packages\\phik\\significance.py:278\u001b[0m, in \u001b[0;36msignificance_from_hist2d\u001b[1;34m(values, nsim, lambda_, simulation_method, significance_method, njobs)\u001b[0m\n\u001b[0;32m    267\u001b[0m     pvalue, zvalue \u001b[39m=\u001b[39m significance_from_chi2_MC(\n\u001b[0;32m    268\u001b[0m         chi2,\n\u001b[0;32m    269\u001b[0m         values,\n\u001b[1;32m   (...)\u001b[0m\n\u001b[0;32m    273\u001b[0m         njobs\u001b[39m=\u001b[39mnjobs,\n\u001b[0;32m    274\u001b[0m     )\n\u001b[0;32m    275\u001b[0m \u001b[39melif\u001b[39;00m significance_method \u001b[39m==\u001b[39m \u001b[39m\"\u001b[39m\u001b[39mhybrid\u001b[39m\u001b[39m\"\u001b[39m:\n\u001b[0;32m    276\u001b[0m     \u001b[39m# low statistics : calculate pvalue and zvalue using h(x|f) and endof\u001b[39;00m\n\u001b[0;32m    277\u001b[0m     \u001b[39m# high statistics: calculate pvalue and zvalue using chi2-distribution and endof\u001b[39;00m\n\u001b[1;32m--> 278\u001b[0m     pvalue, zvalue \u001b[39m=\u001b[39m significance_from_chi2_hybrid(\n\u001b[0;32m    279\u001b[0m         chi2,\n\u001b[0;32m    280\u001b[0m         values,\n\u001b[0;32m    281\u001b[0m         nsim\u001b[39m=\u001b[39;49mnsim,\n\u001b[0;32m    282\u001b[0m         lambda_\u001b[39m=\u001b[39;49mlambda_,\n\u001b[0;32m    283\u001b[0m         simulation_method\u001b[39m=\u001b[39;49msimulation_method,\n\u001b[0;32m    284\u001b[0m         njobs\u001b[39m=\u001b[39;49mnjobs,\n\u001b[0;32m    285\u001b[0m     )\n\u001b[0;32m    286\u001b[0m \u001b[39melse\u001b[39;00m:\n\u001b[0;32m    287\u001b[0m     \u001b[39mraise\u001b[39;00m \u001b[39mNotImplementedError\u001b[39;00m(\n\u001b[0;32m    288\u001b[0m         \u001b[39m\"\u001b[39m\u001b[39msimulation_method \u001b[39m\u001b[39m{0:s}\u001b[39;00m\u001b[39m is unknown\u001b[39m\u001b[39m\"\u001b[39m\u001b[39m.\u001b[39mformat(simulation_method)\n\u001b[0;32m    289\u001b[0m     )\n",
            "File \u001b[1;32mc:\\Users\\vitaly.flerin\\Miniconda3\\lib\\site-packages\\phik\\significance.py:216\u001b[0m, in \u001b[0;36msignificance_from_chi2_hybrid\u001b[1;34m(chi2, values, nsim, lambda_, simulation_method, chi2s, njobs)\u001b[0m\n\u001b[0;32m    213\u001b[0m avg_per_bin \u001b[39m=\u001b[39m values\u001b[39m.\u001b[39msum() \u001b[39m/\u001b[39m values\u001b[39m.\u001b[39mshape[\u001b[39m0\u001b[39m] \u001b[39m*\u001b[39m values\u001b[39m.\u001b[39mshape[\u001b[39m1\u001b[39m]\n\u001b[0;32m    215\u001b[0m \u001b[39mif\u001b[39;00m avg_per_bin \u001b[39m<\u001b[39m\u001b[39m=\u001b[39m \u001b[39m4\u001b[39m:\n\u001b[1;32m--> 216\u001b[0m     f, endof, lsigma, bw \u001b[39m=\u001b[39m fit_test_statistic_distribution(chi2s)\n\u001b[0;32m    217\u001b[0m     pvalue_h \u001b[39m=\u001b[39m f \u001b[39m*\u001b[39m stats\u001b[39m.\u001b[39mchi2\u001b[39m.\u001b[39msf(chi2, endof) \u001b[39m+\u001b[39m (\u001b[39m1\u001b[39m \u001b[39m-\u001b[39m f) \u001b[39m*\u001b[39m stats\u001b[39m.\u001b[39mnorm\u001b[39m.\u001b[39msf(\n\u001b[0;32m    218\u001b[0m         chi2, endof, lsigma\n\u001b[0;32m    219\u001b[0m     )\n\u001b[0;32m    220\u001b[0m \u001b[39melse\u001b[39;00m:\n",
            "File \u001b[1;32mc:\\Users\\vitaly.flerin\\Miniconda3\\lib\\site-packages\\phik\\significance.py:70\u001b[0m, in \u001b[0;36mfit_test_statistic_distribution\u001b[1;34m(chi2s, nbins)\u001b[0m\n\u001b[0;32m     67\u001b[0m xhist \u001b[39m=\u001b[39m xbounds[:\u001b[39m-\u001b[39m\u001b[39m1\u001b[39m] \u001b[39m+\u001b[39m np\u001b[39m.\u001b[39mdiff(xbounds) \u001b[39m/\u001b[39m \u001b[39m2\u001b[39m\n\u001b[0;32m     69\u001b[0m initGuess \u001b[39m=\u001b[39m (\u001b[39m1.0\u001b[39m,)  \u001b[39m# starting value for parameter f\u001b[39;00m\n\u001b[1;32m---> 70\u001b[0m res \u001b[39m=\u001b[39m optimize\u001b[39m.\u001b[39;49mleast_squares(\n\u001b[0;32m     71\u001b[0m     gtest, initGuess, bounds\u001b[39m=\u001b[39;49m((\u001b[39m0.0\u001b[39;49m,), (\u001b[39m1\u001b[39;49m,)), args\u001b[39m=\u001b[39;49m(xhist, yhist)\n\u001b[0;32m     72\u001b[0m )\n\u001b[0;32m     74\u001b[0m \u001b[39mreturn\u001b[39;00m res\u001b[39m.\u001b[39mx[\u001b[39m0\u001b[39m], kmean, lsigma, bw\n",
            "File \u001b[1;32mc:\\Users\\vitaly.flerin\\Miniconda3\\lib\\site-packages\\scipy\\optimize\\_lsq\\least_squares.py:820\u001b[0m, in \u001b[0;36mleast_squares\u001b[1;34m(fun, x0, jac, bounds, method, ftol, xtol, gtol, x_scale, loss, f_scale, diff_step, tr_solver, tr_options, jac_sparsity, max_nfev, verbose, args, kwargs)\u001b[0m\n\u001b[0;32m    817\u001b[0m \u001b[39mif\u001b[39;00m method \u001b[39m==\u001b[39m \u001b[39m'\u001b[39m\u001b[39mtrf\u001b[39m\u001b[39m'\u001b[39m:\n\u001b[0;32m    818\u001b[0m     x0 \u001b[39m=\u001b[39m make_strictly_feasible(x0, lb, ub)\n\u001b[1;32m--> 820\u001b[0m f0 \u001b[39m=\u001b[39m fun_wrapped(x0)\n\u001b[0;32m    822\u001b[0m \u001b[39mif\u001b[39;00m f0\u001b[39m.\u001b[39mndim \u001b[39m!=\u001b[39m \u001b[39m1\u001b[39m:\n\u001b[0;32m    823\u001b[0m     \u001b[39mraise\u001b[39;00m \u001b[39mValueError\u001b[39;00m(\u001b[39m\"\u001b[39m\u001b[39m`fun` must return at most 1-d array_like. \u001b[39m\u001b[39m\"\u001b[39m\n\u001b[0;32m    824\u001b[0m                      \u001b[39m\"\u001b[39m\u001b[39mf0.shape: \u001b[39m\u001b[39m{0}\u001b[39;00m\u001b[39m\"\u001b[39m\u001b[39m.\u001b[39mformat(f0\u001b[39m.\u001b[39mshape))\n",
            "File \u001b[1;32mc:\\Users\\vitaly.flerin\\Miniconda3\\lib\\site-packages\\scipy\\optimize\\_lsq\\least_squares.py:815\u001b[0m, in \u001b[0;36mleast_squares.<locals>.fun_wrapped\u001b[1;34m(x)\u001b[0m\n\u001b[0;32m    814\u001b[0m \u001b[39mdef\u001b[39;00m \u001b[39mfun_wrapped\u001b[39m(x):\n\u001b[1;32m--> 815\u001b[0m     \u001b[39mreturn\u001b[39;00m np\u001b[39m.\u001b[39matleast_1d(fun(x, \u001b[39m*\u001b[39margs, \u001b[39m*\u001b[39m\u001b[39m*\u001b[39mkwargs))\n",
            "File \u001b[1;32mc:\\Users\\vitaly.flerin\\Miniconda3\\lib\\site-packages\\phik\\significance.py:57\u001b[0m, in \u001b[0;36mfit_test_statistic_distribution.<locals>.gtest\u001b[1;34m(p, x, y)\u001b[0m\n\u001b[0;32m     56\u001b[0m \u001b[39mdef\u001b[39;00m \u001b[39mgtest\u001b[39m(p, x, y):\n\u001b[1;32m---> 57\u001b[0m     f \u001b[39m=\u001b[39m ffunc(x, \u001b[39m*\u001b[39;49mp)\n\u001b[0;32m     58\u001b[0m     ll \u001b[39m=\u001b[39m f \u001b[39m-\u001b[39m special\u001b[39m.\u001b[39mxlogy(y, f) \u001b[39m+\u001b[39m special\u001b[39m.\u001b[39mgammaln(y \u001b[39m+\u001b[39m \u001b[39m1\u001b[39m)\n\u001b[0;32m     59\u001b[0m     \u001b[39mreturn\u001b[39;00m np\u001b[39m.\u001b[39msqrt(ll)\n",
            "File \u001b[1;32mc:\\Users\\vitaly.flerin\\Miniconda3\\lib\\site-packages\\phik\\significance.py:54\u001b[0m, in \u001b[0;36mfit_test_statistic_distribution.<locals>.<lambda>\u001b[1;34m(x, f)\u001b[0m\n\u001b[0;32m     51\u001b[0m \u001b[39mdef\u001b[39;00m \u001b[39mmyfunc\u001b[39m(x, N, f, k, sigma):\n\u001b[0;32m     52\u001b[0m     \u001b[39mreturn\u001b[39;00m N \u001b[39m*\u001b[39m (f \u001b[39m*\u001b[39m stats\u001b[39m.\u001b[39mchi2\u001b[39m.\u001b[39mpdf(x, k) \u001b[39m+\u001b[39m (\u001b[39m1\u001b[39m \u001b[39m-\u001b[39m f) \u001b[39m*\u001b[39m stats\u001b[39m.\u001b[39mnorm\u001b[39m.\u001b[39mpdf(x, k, sigma))\n\u001b[1;32m---> 54\u001b[0m ffunc \u001b[39m=\u001b[39m \u001b[39mlambda\u001b[39;00m x, f: myfunc(x, nsim \u001b[39m*\u001b[39;49m bw, f, kmean, lsigma)\n\u001b[0;32m     56\u001b[0m \u001b[39mdef\u001b[39;00m \u001b[39mgtest\u001b[39m(p, x, y):\n\u001b[0;32m     57\u001b[0m     f \u001b[39m=\u001b[39m ffunc(x, \u001b[39m*\u001b[39mp)\n",
            "File \u001b[1;32mc:\\Users\\vitaly.flerin\\Miniconda3\\lib\\site-packages\\phik\\significance.py:52\u001b[0m, in \u001b[0;36mfit_test_statistic_distribution.<locals>.myfunc\u001b[1;34m(x, N, f, k, sigma)\u001b[0m\n\u001b[0;32m     51\u001b[0m \u001b[39mdef\u001b[39;00m \u001b[39mmyfunc\u001b[39m(x, N, f, k, sigma):\n\u001b[1;32m---> 52\u001b[0m     \u001b[39mreturn\u001b[39;00m N \u001b[39m*\u001b[39m (f \u001b[39m*\u001b[39m stats\u001b[39m.\u001b[39mchi2\u001b[39m.\u001b[39mpdf(x, k) \u001b[39m+\u001b[39m (\u001b[39m1\u001b[39m \u001b[39m-\u001b[39m f) \u001b[39m*\u001b[39m stats\u001b[39m.\u001b[39;49mnorm\u001b[39m.\u001b[39;49mpdf(x, k, sigma))\n",
            "File \u001b[1;32mc:\\Users\\vitaly.flerin\\Miniconda3\\lib\\site-packages\\scipy\\stats\\_distn_infrastructure.py:2085\u001b[0m, in \u001b[0;36mrv_continuous.pdf\u001b[1;34m(self, x, *args, **kwds)\u001b[0m\n\u001b[0;32m   2083\u001b[0m args \u001b[39m=\u001b[39m \u001b[39mtuple\u001b[39m(\u001b[39mmap\u001b[39m(asarray, args))\n\u001b[0;32m   2084\u001b[0m dtyp \u001b[39m=\u001b[39m np\u001b[39m.\u001b[39mfind_common_type([x\u001b[39m.\u001b[39mdtype, np\u001b[39m.\u001b[39mfloat64], [])\n\u001b[1;32m-> 2085\u001b[0m x \u001b[39m=\u001b[39m np\u001b[39m.\u001b[39masarray((x \u001b[39m-\u001b[39;49m loc)\u001b[39m/\u001b[39;49mscale, dtype\u001b[39m=\u001b[39mdtyp)\n\u001b[0;32m   2086\u001b[0m cond0 \u001b[39m=\u001b[39m \u001b[39mself\u001b[39m\u001b[39m.\u001b[39m_argcheck(\u001b[39m*\u001b[39margs) \u001b[39m&\u001b[39m (scale \u001b[39m>\u001b[39m \u001b[39m0\u001b[39m)\n\u001b[0;32m   2087\u001b[0m cond1 \u001b[39m=\u001b[39m \u001b[39mself\u001b[39m\u001b[39m.\u001b[39m_support_mask(x, \u001b[39m*\u001b[39margs) \u001b[39m&\u001b[39m (scale \u001b[39m>\u001b[39m \u001b[39m0\u001b[39m)\n",
            "\u001b[1;31mFloatingPointError\u001b[0m: divide by zero encountered in true_divide"
          ]
        }
      ],
      "source": [
        "\n",
        "import pandas as pd\n",
        "import phik\n",
        "from phik import resources, report\n",
        "\n",
        "# open fake car insurance data\n",
        "df = pd.read_csv( resources.fixture('fake_insurance_data.csv.gz') )\n",
        "df.head()\n",
        "# Pearson's correlation matrix between numeric variables (pandas functionality)\n",
        "df.corr()\n",
        "\n",
        "# get the phi_k correlation matrix between all variables\n",
        "df.phik_matrix()\n",
        "\n",
        "# get global correlations based on phi_k correlation matrix\n",
        "df.global_phik()\n",
        "\n",
        "# get the significance matrix (expressed as one-sided Z)\n",
        "# of the hypothesis test of each variable-pair dependency\n",
        "df.significance_matrix()\n",
        "\n",
        "# contingency table of two columns\n",
        "cols = ['mileage','car_size']\n",
        "df[cols].hist2d()\n",
        "\n",
        "# normalized residuals of contingency test applied to cols\n",
        "df[cols].outlier_significance_matrix()\n",
        "\n",
        "# show the normalized residuals of each variable-pair\n",
        "df.outlier_significance_matrices()\n",
        "\n",
        "# generate a phik correlation report and save as test.pdf\n",
        "report.correlation_report(df, pdf_file_name='test.pdf')"
      ]
    },
    {
      "cell_type": "code",
      "execution_count": null,
      "metadata": {
        "id": "l6Kf2_nKlBt9"
      },
      "outputs": [],
      "source": []
    },
    {
      "cell_type": "code",
      "execution_count": null,
      "metadata": {
        "id": "KggtWjb7lBt9",
        "outputId": "2623dbc7-047a-4527-beca-ad3f8b58fb44"
      },
      "outputs": [
        {
          "ename": "SyntaxError",
          "evalue": "invalid syntax (2111402526.py, line 1)",
          "output_type": "error",
          "traceback": [
            "\u001b[1;36m  Cell \u001b[1;32mIn [119], line 1\u001b[1;36m\u001b[0m\n\u001b[1;33m    https://betterprogramming.pub/this-library-can-analyze-data-interactively-like-excel-d1d89fe80a5a\u001b[0m\n\u001b[1;37m          ^\u001b[0m\n\u001b[1;31mSyntaxError\u001b[0m\u001b[1;31m:\u001b[0m invalid syntax\n"
          ]
        }
      ],
      "source": [
        "https://betterprogramming.pub/this-library-can-analyze-data-interactively-like-excel-d1d89fe80a5a\n",
        "import dtale\n",
        "import pandas as pd\n",
        "data = dtale.show(data)\n",
        "data"
      ]
    },
    {
      "cell_type": "code",
      "execution_count": null,
      "metadata": {
        "id": "3PXtGBztlBt9"
      },
      "outputs": [],
      "source": []
    },
    {
      "cell_type": "code",
      "execution_count": null,
      "metadata": {
        "id": "GxpIOk9OlBt-"
      },
      "outputs": [],
      "source": [
        "https://betterprogramming.pub/this-library-can-analyze-data-interactively-like-excel-d1d89fe80a5a\n",
        "import dtale\n",
        "import pandas as pd\n",
        "data = dtale.show(data)\n",
        "data"
      ]
    },
    {
      "cell_type": "code",
      "execution_count": null,
      "metadata": {
        "id": "Zx32pm2MlBt-",
        "outputId": "9f2cef0f-ee56-432d-cfda-771ff05284f6",
        "colab": {
          "referenced_widgets": [
            "005af2cb71ab4730ae97d6e4d6d96254"
          ]
        }
      },
      "outputs": [
        {
          "data": {
            "application/json": {
              "ascii": false,
              "bar_format": "{desc:45}|{bar}| [{percentage:3.0f}%]   {elapsed} -> ({remaining} left)",
              "colour": null,
              "elapsed": 0.015955448150634766,
              "initial": 0,
              "n": 0,
              "ncols": null,
              "nrows": null,
              "postfix": null,
              "prefix": "",
              "rate": null,
              "total": 10,
              "unit": "it",
              "unit_divisor": 1000,
              "unit_scale": false
            },
            "application/vnd.jupyter.widget-view+json": {
              "model_id": "005af2cb71ab4730ae97d6e4d6d96254",
              "version_major": 2,
              "version_minor": 0
            },
            "text/plain": [
              "                                             |          | [  0%]   00:00 -> (? left)"
            ]
          },
          "metadata": {},
          "output_type": "display_data"
        }
      ],
      "source": [
        "import pandas as pd\n",
        "import pandas_profiling\n",
        "data= pd.read_excel(r\"C:\\Users\\vitaly.flerin\\Desktop\\05 Ad hoc\\2022-12-01_гео\\yan_1.xlsx\")\n",
        "data = pandas_profiling.ProfileReport(data)\n",
        "data.to_file(\"my_report.html\")"
      ]
    },
    {
      "cell_type": "code",
      "execution_count": null,
      "metadata": {
        "id": "WtLARBDDlBt-"
      },
      "outputs": [],
      "source": [
        "import sweetviz as sw\n",
        "analyze_report = sw.analyze(data)\n",
        "analyze_report.show_html('ouput.html', open_browser=True)\n",
        "'''unique_numbers = list(set(data['subs_id']))\n",
        "unique_numbers\n",
        "len(unique_numbers)\n",
        "len(data['subs_id'])'''"
      ]
    },
    {
      "cell_type": "markdown",
      "metadata": {
        "id": "L0T96FbFlBt-"
      },
      "source": [
        "подходы"
      ]
    },
    {
      "cell_type": "code",
      "execution_count": null,
      "metadata": {
        "id": "Ns3UJvWTlBt_"
      },
      "outputs": [],
      "source": [
        "#%%https://stackoverflow.com/questions/56842575/how-to-display-averages-instead-of-counts-on-folium-markerclusters\n",
        "import json\n",
        "import folium\n",
        "from folium import Marker\n",
        "from folium.plugins import MarkerCluster\n",
        "from jinja2 import Template\n",
        "\n",
        "\n",
        "class MarkerWithProps(Marker):\n",
        "    _template = Template(u\"\"\"\n",
        "        {% macro script(this, kwargs) %}\n",
        "        var {{this.get_name()}} = L.marker(\n",
        "            [{{this.location[0]}}, {{this.location[1]}}],\n",
        "            {\n",
        "                icon: new L.Icon.Default(),\n",
        "                {%- if this.draggable %}\n",
        "                draggable: true,\n",
        "                autoPan: true,\n",
        "                {%- endif %}\n",
        "                {%- if this.props %}\n",
        "                props : {{ this.props }} \n",
        "                {%- endif %}\n",
        "                }\n",
        "            )\n",
        "            .addTo({{this._parent.get_name()}});\n",
        "        {% endmacro %}\n",
        "        \"\"\")\n",
        "    def __init__(self, location, popup=None, tooltip=None, icon=None,\n",
        "                 draggable=False, props = None ):\n",
        "        super(MarkerWithProps, self).__init__(location=location,popup=popup,tooltip=tooltip,icon=icon,draggable=draggable)\n",
        "        self.props = json.loads(json.dumps(props))    \n",
        "\n",
        "\n",
        "\n",
        "map = folium.Map(location=[55.62252,37.30162], tiles='CartoDB dark_matter', zoom_start=5)\n",
        "\n",
        "marker_data =(\n",
        "    {\n",
        "        'location':[40.67, -73.94],\n",
        "        'population': 200     \n",
        "    },\n",
        "    {\n",
        "        'location':[44.67, -73.94],\n",
        "        'population': 300     \n",
        "    }\n",
        ")\n",
        "\n",
        "icon_create_function = '''\n",
        "    function(cluster) {\n",
        "        var markers = cluster.getAllChildMarkers();\n",
        "        var sum = 0;\n",
        "        for (var i = 0; i < markers.length; i++) {\n",
        "            sum += markers[i].options.props.population;\n",
        "        }\n",
        "        var avg = sum/cluster.getChildCount();\n",
        "\n",
        "        return L.divIcon({\n",
        "             html: '<b>' + avg + '</b>',\n",
        "             className: 'marker-cluster marker-cluster-small',\n",
        "             iconSize: new L.Point(20, 20)\n",
        "        });\n",
        "    }\n",
        "'''\n",
        "\n",
        "marker_cluster = MarkerCluster(icon_create_function=icon_create_function)\n",
        "\n",
        "for marker_item in marker_data:\n",
        "    marker = MarkerWithProps(\n",
        "        location=marker_item['location'],\n",
        "        props = { 'population': marker_item['population']}\n",
        "    )\n",
        "    marker.add_to(marker_cluster)\n",
        "\n",
        "marker_cluster.add_to(map)    \n",
        "\n",
        "#m.save(os.path.join('results', '1000_MarkerCluster0.html'))\n",
        "map\n",
        "  "
      ]
    },
    {
      "cell_type": "code",
      "execution_count": null,
      "metadata": {
        "id": "qwtO5QdwlBt_"
      },
      "outputs": [],
      "source": [
        "n = folium.Map(location=[20,0], tiles=\"OpenStreetMap\", zoom_start=2)\n",
        "\n",
        "# add marker one by one on the map\n",
        "for i in range(0,len(data)):\n",
        "    html=f\"\"\"\n",
        "        <h1> {data.iloc[i]['subs_id']}</h1>\n",
        "        <p>You can use any html here! Let's do a list:</p>\n",
        "        <ul>\n",
        "            <li>Item 1</li>\n",
        "            <li>Item 2</li>\n",
        "        </ul>\n",
        "        </p>\n",
        "        <p>And that's a <a href=\"https://www.python-graph-gallery.com\">link</a></p>\n",
        "        \"\"\"\n",
        "    iframe = folium.IFrame(html=html, width=200, height=200)\n",
        "    popup = folium.Popup(iframe, max_width=2650)\n",
        "    folium.Marker(\n",
        "        location=[data.iloc[i]['lat'], data.iloc[i]['lng']],\n",
        "        popup=popup,\n",
        "        icon=folium.DivIcon(html=f\"\"\"\n",
        "            <div><svg>\n",
        "                <circle cx=\"10\" cy=\"10\" r=\"10\" fill=\"#69b3a2\" opacity=\".4\"/>\n",
        "                <rect x=\"35\", y=\"35\" width=\"30\" height=\"30\", fill=\"red\", opacity=\".3\" \n",
        "            </svg></div>\"\"\")\n",
        "    ).add_to(n)\n",
        "\n",
        "# Show the map again\n",
        "n"
      ]
    },
    {
      "cell_type": "code",
      "execution_count": null,
      "metadata": {
        "id": "lz14pvEWlBuA"
      },
      "outputs": [],
      "source": [
        "n = folium.Map(location=[20,0], tiles=\"OpenStreetMap\", zoom_start=2)\n",
        "\n",
        "# add marker one by one on the map\n",
        "for i in range(0,len(data)):\n",
        "   folium.Marker(\n",
        "      location=[data.iloc[i]['lat'], data.iloc[i]['lng']],\n",
        "      popup=data.iloc[i]['address'],\n",
        "      icon=folium.DivIcon(html=f\"\"\"<div style=\"font-family: courier new; color: blue\">{data.iloc[i]['address']}</div>\"\"\")\n",
        "   ).add_to(n)\n",
        "n   \n",
        "\n",
        "# Show the map again"
      ]
    },
    {
      "cell_type": "code",
      "execution_count": null,
      "metadata": {
        "id": "Hy0-dk6blBuB"
      },
      "outputs": [],
      "source": [
        "\n",
        "import folium\n",
        "from folium.plugins import MarkerCluster\n",
        "\n",
        "\n",
        "m = folium.Map(location=[44, -73], zoom_start=5)\n",
        "\n",
        "marker_cluster = MarkerCluster().add_to(m)\n",
        "\n",
        "\n",
        "folium.Marker(\n",
        "    location=[40.67, -73.94],\n",
        "    popup=\"Add popup text here.\",\n",
        "    icon=folium.Icon(color=\"green\", icon=\"ok-sign\"),\n",
        ").add_to(marker_cluster)\n",
        "\n",
        "folium.Marker(\n",
        "    location=[44.67, -73.94],\n",
        "    popup=\"Add popup text here.\",\n",
        "    icon=folium.Icon(color=\"red\", icon=\"remove-sign\"),\n",
        ").add_to(marker_cluster)\n",
        "\n",
        "folium.Marker(\n",
        "    location=[44.67, -71.94],\n",
        "    popup=\"Add popup text here.\",\n",
        "    icon=None,\n",
        ").add_to(marker_cluster)\n",
        "\n",
        "m"
      ]
    },
    {
      "cell_type": "markdown",
      "metadata": {
        "id": "fNdsY5T4lBuD"
      },
      "source": [
        "Подход 3, пример"
      ]
    },
    {
      "cell_type": "code",
      "execution_count": null,
      "metadata": {
        "id": "z8FyYBIalBuD"
      },
      "outputs": [],
      "source": [
        "map = folium.Map(location = [15.4529, 90.797], zoom_start=4)\n",
        "folium.TileLayer('cartodbdark_matter').add_to(map) # Sets Tile Theme to (Dark Theme)\n",
        "mc = MarkerCluster()\n",
        "for index, row in data.iterrows():\n",
        "   mc.add_child(folium.Marker(location=[str(row['lat']),     str(row['lng'])], tooltip=\"Put anything you want here!\",\n",
        "   icon=folium.Icon(color=\"red\", icon='info-sign', icon_color='white', clustered_marker=True )))\n",
        "   folium.Circle(location=[str(row['lat']), str(row['lng'])],   color=data['color'][index], fill=True,  fill_color='Red'  ''', radius=int(row['nps']) * 30''').add_to(map)\n",
        "map.add_child(mc)   \n",
        "map#.save('medium_map.html') "
      ]
    },
    {
      "cell_type": "code",
      "execution_count": null,
      "metadata": {
        "id": "ibpL-7gRlBuD"
      },
      "outputs": [],
      "source": [
        "import folium\n",
        "from folium.plugins import MarkerCluster\n",
        "import pandas as pd\n",
        "df = pd.read_csv('https://github.com/CSSEGISandData/COVID-19/blob/master/csse_covid_19_data/csse_covid_19_daily_reports/03-28-2020.csv?raw=true') # Reading in the CSV"
      ]
    },
    {
      "cell_type": "code",
      "execution_count": null,
      "metadata": {
        "id": "9-Osn_bElBuD"
      },
      "outputs": [],
      "source": [
        "\n",
        "map = folium.Map(location = [15.4529, 90.797], zoom_start=4)\n",
        "folium.TileLayer('cartodbdark_matter').add_to(map) # Sets Tile Theme to (Dark Theme)\n",
        "mc = MarkerCluster()\n",
        "for index, row in df.iterrows():\n",
        "   mc.add_child(folium.Marker(location=[str(row['Lat']),     str(row['Long_'])], tooltip=\"Put anything you want here!\",\n",
        "   icon=folium.Icon(color=\"red\", icon=\"info-sign\",      clustered_marker=True)))\n",
        "   folium.Circle(location=[str(row['Lat']), str(row['Long_'])],   color='Red', fill=True, fill_color='Red',\n",
        "              radius=int(row['Confirmed']) * 30).add_to(map)\n",
        "map.add_child(mc)\n",
        "map.save('medium_map.html') # Saves Map to an HTML File"
      ]
    },
    {
      "cell_type": "code",
      "execution_count": null,
      "metadata": {
        "id": "prJDwYsilBuD"
      },
      "outputs": [],
      "source": [
        "df.loc[(df!=0).any(axis=1)]"
      ]
    },
    {
      "cell_type": "code",
      "execution_count": null,
      "metadata": {
        "id": "qTs1zY9SlBuE"
      },
      "outputs": [],
      "source": [
        "import numpy as np\n",
        "df = df.replace(0, np.nan)\n",
        "df = df.dropna(how='all', axis=1)\n",
        "df = df.replace(np.nan, 0)"
      ]
    },
    {
      "cell_type": "code",
      "execution_count": null,
      "metadata": {
        "id": "C0QbjKDFlBuE"
      },
      "outputs": [],
      "source": [
        "df= df[df['Lat'] != 0]"
      ]
    },
    {
      "cell_type": "code",
      "execution_count": null,
      "metadata": {
        "id": "MK1N5I2olBuE"
      },
      "outputs": [],
      "source": [
        "df= df[df['Long_'] != 0]"
      ]
    },
    {
      "cell_type": "code",
      "execution_count": null,
      "metadata": {
        "id": "VuDJRG0mlBuE"
      },
      "outputs": [],
      "source": [
        "df.to_excel('qwre.xlsx')"
      ]
    },
    {
      "cell_type": "code",
      "execution_count": null,
      "metadata": {
        "id": "j3d7V9aelBuE"
      },
      "outputs": [],
      "source": []
    },
    {
      "cell_type": "code",
      "execution_count": null,
      "metadata": {
        "id": "ZYKdm74KlBuE"
      },
      "outputs": [],
      "source": []
    },
    {
      "cell_type": "code",
      "execution_count": null,
      "metadata": {
        "id": "ldmo3xq1lBuE"
      },
      "outputs": [],
      "source": [
        "#черновик и наработки\n",
        "'''examp 1'''\n",
        "latitudes = list(df['lat'])\n",
        "longitudes = list(df['lng'])\n",
        "for lat, lng in zip(latitudes, longitudes):\n",
        "    folium.CircleMarker(location=[lat, lng], radius = 9, fill_color='red' ,  color=\"gray\", fill_opacity = 0.01, icon = folium.Icon(color='green',icon='ok-sign')).add_to(map)\n",
        "map\n",
        "\n",
        "'''2'''\n",
        "map = folium.Map(location=[55.62252,37.30162], zoom_start = 5, tiles = 'cartodbpositron')\n",
        "\n",
        "for lat, lon, elevation in zip(lat, lon, elevation):\n",
        "    folium.CircleMarker(location=[lat, lon], radius = 1, popup=str(elevation)+\" m\", fill_color='red', color=\"gray\", fill_opacity = 0.5).add_to(map)\n",
        "\n",
        "'''3'''\n",
        "# рабочий кодYandex_address\n",
        "lat = data['lat']\n",
        "lon = data['lng']\n",
        "elevation = data['nps']\n",
        "#subs = data['subs_id']\n",
        "\n",
        "def color_change(elev):\n",
        "    if(elev > 0):\n",
        "        return('green')\n",
        "    elif( elev <0):\n",
        "        return('red')\n",
        "    else:\n",
        "        return('grey')\n",
        "\n",
        "map = folium.Map(location=[55.62252,37.30162], zoom_start = 4, tiles = 'CartoDB dark_matter')\n",
        "marker_cluster = MarkerCluster().add_to(map)\n",
        "\n",
        "\n",
        "for lat, lon, elevation in zip(lat, lon, elevation):\n",
        "    folium.CircleMarker(location=[lat, lon], radius = 9, popup=(str(elevation)+\" NPS\"), fill_color=color_change(elevation), color=\"gray\", fill_opacity = 0.9).add_to(marker_cluster)\n",
        "\n",
        "map.save(\"map1.html\")"
      ]
    }
  ],
  "metadata": {
    "kernelspec": {
      "display_name": "Python 3.9.13 ('base')",
      "language": "python",
      "name": "python3"
    },
    "language_info": {
      "codemirror_mode": {
        "name": "ipython",
        "version": 3
      },
      "file_extension": ".py",
      "mimetype": "text/x-python",
      "name": "python",
      "nbconvert_exporter": "python",
      "pygments_lexer": "ipython3",
      "version": "3.9.13"
    },
    "orig_nbformat": 4,
    "vscode": {
      "interpreter": {
        "hash": "d9acfe8064b338b087cf5b985d533c132426f668fd9f5be560d7a729870e8555"
      }
    },
    "colab": {
      "provenance": [],
      "include_colab_link": true
    }
  },
  "nbformat": 4,
  "nbformat_minor": 0
}
