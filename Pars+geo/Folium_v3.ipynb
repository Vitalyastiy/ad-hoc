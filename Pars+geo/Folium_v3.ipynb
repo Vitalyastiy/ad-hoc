{
  "cells": [
    {
      "cell_type": "markdown",
      "metadata": {
        "id": "view-in-github",
        "colab_type": "text"
      },
      "source": [
        "<a href=\"https://colab.research.google.com/github/Vitalyastiy/ad-hoc/blob/main/Pars%2Bgeo/Folium_v3.ipynb\" target=\"_parent\"><img src=\"https://colab.research.google.com/assets/colab-badge.svg\" alt=\"Open In Colab\"/></a>"
      ]
    },
    {
      "cell_type": "code",
      "execution_count": null,
      "metadata": {
        "id": "rdFB4jAalBTR"
      },
      "outputs": [],
      "source": [
        "import folium \n",
        "import pandas as pd\n",
        "from folium.plugins import MarkerCluster\n",
        "import pandas as pd\n",
        "import requests\n",
        "from xml.etree import ElementTree\n",
        "import numpy as np\n",
        "import folium\n",
        "import numpy as np"
      ]
    },
    {
      "cell_type": "code",
      "execution_count": null,
      "metadata": {
        "id": "l6l5A4kPlBTU"
      },
      "outputs": [],
      "source": [
        "df1= pd.read_excel(r\"C:\\Users\\.....summ.xlsx\")\n",
        "df1"
      ]
    },
    {
      "cell_type": "code",
      "execution_count": null,
      "metadata": {
        "id": "Ua3ZmiPSlBTV"
      },
      "outputs": [],
      "source": [
        "df1['Yandex_address'] = df1['Yandex_address'].astype(str)\n"
      ]
    },
    {
      "cell_type": "code",
      "execution_count": null,
      "metadata": {
        "id": "UYPV93UGlBTW"
      },
      "outputs": [],
      "source": [
        "df1 = df1[(df1['Yandex_address'].str.contains('Россия'))]\n",
        "df1"
      ]
    },
    {
      "cell_type": "code",
      "execution_count": null,
      "metadata": {
        "id": "LZUdDmVnlBTX"
      },
      "outputs": [],
      "source": [
        "df_np = pd.read_csv(r\"C:\\Users\\vitaly.flerin\\Desktop\\05 Ad hoc\\2022-12-01_гео\\result_2.csv\",sep=',' , encoding='cp1251' )\n",
        "df_np"
      ]
    },
    {
      "cell_type": "code",
      "execution_count": null,
      "metadata": {
        "id": "a7UpasZjlBTX"
      },
      "outputs": [],
      "source": [
        "df_pivot = pd.merge(df1, df_np, how = 'inner', left_on = ['create_date', 'subs_id'], right_on = ['create_date', 'subs_id'])\n",
        "df_pivot\n",
        "#df_np['create_date'] = df['create_date'].astype(object)"
      ]
    },
    {
      "cell_type": "code",
      "execution_count": null,
      "metadata": {
        "id": "CrUtOpq9lBTY"
      },
      "outputs": [],
      "source": [
        "df_pivot = df_pivot[['id', 'create_date', 'subs_id', 'address', 'lat', 'lng', 'Region',\n",
        "       'Yandex_address',  'nps']]\n",
        "df_pivot"
      ]
    },
    {
      "cell_type": "code",
      "execution_count": null,
      "metadata": {
        "id": "fGI48ZqQlBTY"
      },
      "outputs": [],
      "source": [
        "df_pivot['subs_id'] = df_pivot['subs_id'].astype(str)\n"
      ]
    },
    {
      "cell_type": "code",
      "execution_count": null,
      "metadata": {
        "id": "aK1JT1MslBTZ"
      },
      "outputs": [],
      "source": [
        "df_pivot['Yandex_address'] = df_pivot['Yandex_address'].astype(str)"
      ]
    },
    {
      "cell_type": "code",
      "execution_count": null,
      "metadata": {
        "id": "c1Z0r2IVlBTZ"
      },
      "outputs": [],
      "source": [
        "df_pivot.dtypes"
      ]
    },
    {
      "cell_type": "code",
      "execution_count": null,
      "metadata": {
        "id": "3f62UEUalBTa"
      },
      "outputs": [],
      "source": [
        "#data = df_pivot[(df_pivot['Yandex_address'].str.contains('Россия'))]"
      ]
    },
    {
      "cell_type": "code",
      "execution_count": null,
      "metadata": {
        "id": "cNTJx1iNlBTa"
      },
      "outputs": [],
      "source": [
        "#data1 = data[(data['Yandex_address'].str.contains('Россия'))]"
      ]
    },
    {
      "cell_type": "code",
      "execution_count": null,
      "metadata": {
        "id": "x6zWKQEnlBTb"
      },
      "outputs": [],
      "source": [
        "data = df_pivot\n",
        "data"
      ]
    },
    {
      "cell_type": "code",
      "execution_count": null,
      "metadata": {
        "id": "agEgaKDQlBTb"
      },
      "outputs": [],
      "source": [
        "map = folium.Map(location = [43.09409 , 131.97061], zoom_start = 2, tiles = 'cartodbpositron' ) # вывод карты"
      ]
    },
    {
      "cell_type": "code",
      "execution_count": null,
      "metadata": {
        "id": "bPliNXD8lBTb"
      },
      "outputs": [],
      "source": [
        "locations = data[['lat', 'lng']]\n",
        "elevation = data['nps']\n",
        "subs = data['subs_id']\n",
        "locationlist = locations.values.tolist()\n",
        "#len(locationlist)\n",
        "#locationlist[7]"
      ]
    },
    {
      "cell_type": "code",
      "execution_count": null,
      "metadata": {
        "id": "oCP_UpOKlBTc"
      },
      "outputs": [],
      "source": [
        "# пример простого вывода, с кластеризацией\n",
        "map2 = folium.Map(location=[55.62252,37.30162], tiles='CartoDB dark_matter', zoom_start=5)\n",
        "marker_cluster = MarkerCluster().add_to(map2)\n",
        "for point in range(0, len(locationlist)):\n",
        "    folium.Marker(locationlist[point], popup=data['subs_id'][point]).add_to(marker_cluster)\n",
        "map2"
      ]
    },
    {
      "cell_type": "code",
      "execution_count": null,
      "metadata": {
        "id": "1SJ0o1y9lBTc"
      },
      "outputs": [],
      "source": [
        "#добавляем функцию и делим дополнительный столбец с цветом НПС, во фрейм\n",
        "def regioncolors(counter):\n",
        "    if counter ['nps'] > 0:\n",
        "        return 'green'\n",
        "    elif counter ['nps'] < 0:\n",
        "        return'red'\n",
        "    else:\n",
        "        return('gray')"
      ]
    },
    {
      "cell_type": "code",
      "execution_count": null,
      "metadata": {
        "id": "SV_rO_-rlBTc"
      },
      "outputs": [],
      "source": [
        "data[\"color\"] = data.apply(regioncolors, axis=1)\n",
        "data.head()"
      ]
    },
    {
      "cell_type": "code",
      "execution_count": null,
      "metadata": {
        "id": "Z4oq0YuwlBTd"
      },
      "outputs": [],
      "source": [
        "#итоговый вывод результата\n",
        "map3 = folium.Map(location=[55.62252,37.30162], tiles='CartoDB dark_matter', zoom_start=5)\n",
        "marker_cluster = MarkerCluster().add_to(map3)\n",
        "\n",
        "for point in range(0, len(locationlist)):\n",
        "    folium.Marker(locationlist[point], popup='ID:'+ ' ' + data['subs_id'][point] + ' ' + data['Yandex_address'][point]  \\\n",
        "        , icon=folium.Icon(color=data['color'][point], icon_color='white', icon='male', angle=0, prefix='fa')).add_to(marker_cluster)  #\n",
        "\n",
        "map3#.save(\"map2.html\")"
      ]
    },
    {
      "cell_type": "code",
      "execution_count": null,
      "metadata": {
        "id": "F5RggMnplBTd"
      },
      "outputs": [],
      "source": []
    },
    {
      "cell_type": "code",
      "execution_count": null,
      "metadata": {
        "id": "giI_PPoTlBTd"
      },
      "outputs": [],
      "source": []
    },
    {
      "cell_type": "code",
      "execution_count": null,
      "metadata": {
        "id": "9pzYWiQGlBTd"
      },
      "outputs": [],
      "source": []
    },
    {
      "cell_type": "code",
      "execution_count": null,
      "metadata": {
        "id": "o3MDbXtClBTd"
      },
      "outputs": [],
      "source": []
    },
    {
      "cell_type": "code",
      "execution_count": null,
      "metadata": {
        "id": "DajwLV0plBTe"
      },
      "outputs": [],
      "source": []
    },
    {
      "cell_type": "code",
      "execution_count": null,
      "metadata": {
        "id": "aBivBvXslBTe"
      },
      "outputs": [],
      "source": []
    },
    {
      "cell_type": "code",
      "execution_count": null,
      "metadata": {
        "id": "KpXnE3QFlBTe"
      },
      "outputs": [],
      "source": [
        "#черновик и наработки\n",
        "'''examp 1'''\n",
        "latitudes = list(df['lat'])\n",
        "longitudes = list(df['lng'])\n",
        "for lat, lng in zip(latitudes, longitudes):\n",
        "    folium.CircleMarker(location=[lat, lng], radius = 9, fill_color='red' ,  color=\"gray\", fill_opacity = 0.01, icon = folium.Icon(color='green',icon='ok-sign')).add_to(map)\n",
        "map\n",
        "\n",
        "'''2'''\n",
        "map = folium.Map(location=[55.62252,37.30162], zoom_start = 5, tiles = 'cartodbpositron')\n",
        "\n",
        "for lat, lon, elevation in zip(lat, lon, elevation):\n",
        "    folium.CircleMarker(location=[lat, lon], radius = 1, popup=str(elevation)+\" m\", fill_color='red', color=\"gray\", fill_opacity = 0.5).add_to(map)\n",
        "\n",
        "'''3'''\n",
        "# рабочий кодYandex_address\n",
        "lat = data['lat']\n",
        "lon = data['lng']\n",
        "elevation = data['nps']\n",
        "#subs = data['subs_id']\n",
        "\n",
        "def color_change(elev):\n",
        "    if(elev > 0):\n",
        "        return('green')\n",
        "    elif( elev <0):\n",
        "        return('red')\n",
        "    else:\n",
        "        return('grey')\n",
        "\n",
        "map = folium.Map(location=[55.62252,37.30162], zoom_start = 4, tiles = 'CartoDB dark_matter')\n",
        "marker_cluster = MarkerCluster().add_to(map)\n",
        "\n",
        "\n",
        "for lat, lon, elevation in zip(lat, lon, elevation):\n",
        "    folium.CircleMarker(location=[lat, lon], radius = 9, popup=(str(elevation)+\" NPS\"), fill_color=color_change(elevation), color=\"gray\", fill_opacity = 0.9).add_to(marker_cluster)\n",
        "\n",
        "map.save(\"map1.html\")"
      ]
    }
  ],
  "metadata": {
    "kernelspec": {
      "display_name": "Python 3.9.13 ('base')",
      "language": "python",
      "name": "python3"
    },
    "language_info": {
      "codemirror_mode": {
        "name": "ipython",
        "version": 3
      },
      "file_extension": ".py",
      "mimetype": "text/x-python",
      "name": "python",
      "nbconvert_exporter": "python",
      "pygments_lexer": "ipython3",
      "version": "3.9.13"
    },
    "orig_nbformat": 4,
    "vscode": {
      "interpreter": {
        "hash": "d9acfe8064b338b087cf5b985d533c132426f668fd9f5be560d7a729870e8555"
      }
    },
    "colab": {
      "provenance": [],
      "include_colab_link": true
    }
  },
  "nbformat": 4,
  "nbformat_minor": 0
}