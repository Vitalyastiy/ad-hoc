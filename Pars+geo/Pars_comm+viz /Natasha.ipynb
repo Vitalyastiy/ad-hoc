{
 "cells": [
  {
   "cell_type": "code",
   "execution_count": 3,
   "metadata": {},
   "outputs": [],
   "source": [
    "import pandas as pd\n",
    "from natasha import AddrExtractor, MorphVocab\n"
   ]
  },
  {
   "cell_type": "code",
   "execution_count": 10,
   "metadata": {},
   "outputs": [],
   "source": [
    "df = pd.read_csv(\"data_test.csv\" \\\n",
    "    , sep=',' , encoding='cp1251').head(100) # top 100           , index_col=0 - индекс "
   ]
  },
  {
   "cell_type": "code",
   "execution_count": 11,
   "metadata": {},
   "outputs": [],
   "source": [
    "morph_vocab = MorphVocab()\n",
    "extractor = AddrExtractor(morph_vocab)\n",
    "\n",
    "def fix_addr(text):\n",
    "    text=str(text)\n",
    "    matches = extractor(text)\n",
    "    return (', '.join(f'{match.fact.type or \"\"} {match.fact.value}' for match in matches)) or None\n",
    "#df['city']=df['mark_6'].map(fix_addr)\n",
    "df['city'] = df['mark_6'].apply(lambda x: fix_addr(x))\n",
    "#print(df[['city','mark_6']])\n",
    "#df"
   ]
  },
  {
   "cell_type": "code",
   "execution_count": 12,
   "metadata": {},
   "outputs": [],
   "source": [
    "df.to_excel(\"Natasha_res.xlsx\", index=False)"
   ]
  },
  {
   "cell_type": "code",
   "execution_count": null,
   "metadata": {},
   "outputs": [],
   "source": []
  }
 ],
 "metadata": {
  "kernelspec": {
   "display_name": "Python 3.9.13 ('base')",
   "language": "python",
   "name": "python3"
  },
  "language_info": {
   "codemirror_mode": {
    "name": "ipython",
    "version": 3
   },
   "file_extension": ".py",
   "mimetype": "text/x-python",
   "name": "python",
   "nbconvert_exporter": "python",
   "pygments_lexer": "ipython3",
   "version": "3.9.13"
  },
  "orig_nbformat": 4,
  "vscode": {
   "interpreter": {
    "hash": "d9acfe8064b338b087cf5b985d533c132426f668fd9f5be560d7a729870e8555"
   }
  }
 },
 "nbformat": 4,
 "nbformat_minor": 2
}
