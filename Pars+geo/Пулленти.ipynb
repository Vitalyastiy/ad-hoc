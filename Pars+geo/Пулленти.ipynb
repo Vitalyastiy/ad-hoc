{
 "cells": [
  {
   "cell_type": "code",
   "execution_count": 3,
   "metadata": {},
   "outputs": [],
   "source": [
    "#Импортируем необходимые модули  из Pullenti и объявляем переменные\n",
    "from pullenti_wrapper.langs import (\n",
    "    set_langs,\n",
    "    RU\n",
    ")\n",
    "set_langs([RU])\n",
    "from pullenti_wrapper.processor import (\n",
    "    Processor,\n",
    "    GEO,\n",
    "    ADDRESS\n",
    ")\n",
    "from pullenti_wrapper.referent import Referent\n",
    "import pandas as pd\n",
    "import json\n",
    "import numpy as np\n",
    "from tqdm import tqdm"
   ]
  },
  {
   "cell_type": "code",
   "execution_count": null,
   "metadata": {},
   "outputs": [],
   "source": [
    "df = pd.read_csv(\"data_test.csv\" , sep=',' , encoding='cp1251').head(100) # top 100                 , index_col=0 - индекс \n",
    "df['mark_6']=df['mark_6'].apply(str)\n",
    "df['mark_6_do'] = np.nan\n",
    "df.head() "
   ]
  },
  {
   "cell_type": "code",
   "execution_count": null,
   "metadata": {},
   "outputs": [],
   "source": [
    "processor = Processor([GEO, ADDRESS])\n",
    "#Текст, содержащий адреса\n",
    "#text = 'Новокузнецк автотранспортная 45. Новокузнецк Рокоссовского 16. Новокузнецк дачное товарищество Робинзон. Новокузнецк Ильинское шоссе'#'При решении возникшей проблемы я уже было отступила, но оператор связи своими смссообщениями всё таки подвинула меня для окончательного решения возникшей ситуации /Москва, улица Марьинский парк'#Москва, улица Марьинский парк ,д.21,кор.2'#Железногорск, Энтузиастов 10Б\"#'Москва, улица Марьинский парк ,д.21,кор.2'\n",
    "#Функция формирования словаря с адресами\n",
    "def display_shortcuts(referent, level=0):\n",
    "    tmp = {}\n",
    "    a = \"\"\n",
    "    b = \"\"\n",
    "    for key in referent.__shortcuts__:\n",
    "        value = getattr(referent, key)\n",
    "        if value in (None, 0, -1):\n",
    "            continue\n",
    "        if isinstance(value, Referent):\n",
    "            display_shortcuts(value, level + 1)\n",
    "        else:\n",
    "            if key == 'type':\n",
    "                a = value \n",
    "            if key == 'name':\n",
    "                b = value\n",
    "            if key == 'house':\n",
    "                a = \"дом\"\n",
    "                b = value\n",
    "                tmp[a] = b\n",
    "            if key == 'flat':\n",
    "                a = \"квартира\"\n",
    "                b = value\n",
    "                tmp[a] = b\n",
    "            if key == 'corpus':\n",
    "                a = \"корпус\"\n",
    "                b = value\n",
    "                tmp[a] = b\n",
    "    tmp[a] = b\n",
    "    addr.append(tmp)\n",
    "\n",
    "\n",
    "x = -1\n",
    "for i, row in df.iterrows(): #перебор\n",
    "    x = x + 1\n",
    "    if row['mark_6'].isdigit() : #проверка на число\n",
    "        continue #\n",
    "    else:\n",
    "        addr = []       \n",
    "        #print(x) #ошибка\n",
    "        #print(row['mark_6'])        \n",
    "        #print(result)\n",
    "        try: #обращение к  функции \n",
    "            result = processor(row['mark_6'])\n",
    "            referent = result.matches[0].referent\n",
    "            display_shortcuts(referent)\n",
    "            #print(addr)\n",
    "            ##addr2 = ', '.join([f'{key.capitalize()}:{value}'for key , value in addr[0].items()])\n",
    "            #print('!1',addr2)#','.join(addr))\n",
    "            st=[]\n",
    "            i=0\n",
    "            while i<len(addr):\n",
    "                for key,value in addr[i].items():\n",
    "                    st+=key, value\n",
    "                i+=1\n",
    "            df.loc[x,'mark_6_do'] = ' '.join(st) #запись \n",
    "            #print(' '.join(st))#','.join(addr))\n",
    "        except:\n",
    "            continue\n",
    "df  \n"
   ]
  },
  {
   "cell_type": "code",
   "execution_count": 6,
   "metadata": {},
   "outputs": [],
   "source": [
    "df.to_excel('Pullenti_res.xlsx')"
   ]
  },
  {
   "cell_type": "code",
   "execution_count": null,
   "metadata": {},
   "outputs": [],
   "source": []
  }
 ],
 "metadata": {
  "kernelspec": {
   "display_name": "base",
   "language": "python",
   "name": "python3"
  },
  "language_info": {
   "codemirror_mode": {
    "name": "ipython",
    "version": 3
   },
   "file_extension": ".py",
   "mimetype": "text/x-python",
   "name": "python",
   "nbconvert_exporter": "python",
   "pygments_lexer": "ipython3",
   "version": "3.9.13"
  },
  "orig_nbformat": 4,
  "vscode": {
   "interpreter": {
    "hash": "d9acfe8064b338b087cf5b985d533c132426f668fd9f5be560d7a729870e8555"
   }
  }
 },
 "nbformat": 4,
 "nbformat_minor": 2
}
