{
  "cells": [
    {
      "cell_type": "markdown",
      "metadata": {
        "id": "view-in-github",
        "colab_type": "text"
      },
      "source": [
        "<a href=\"https://colab.research.google.com/github/Vitalyastiy/ad-hoc/blob/main/%D0%9F%D0%BE%D0%B8%D1%81%D0%BA%20%D0%B2%D0%B7%D0%B0%D0%B8%D0%BC%D0%BE%D1%81%D0%B2%D1%8F%D0%B7%D0%B8%2B%D0%BA%D0%BE%D0%BD%D0%BD%D0%B5%D0%BA%D1%82%D0%BE%D1%80.ipynb\" target=\"_parent\"><img src=\"https://colab.research.google.com/assets/colab-badge.svg\" alt=\"Open In Colab\"/></a>"
      ]
    },
    {
      "cell_type": "markdown",
      "metadata": {
        "id": "u9smlCppH3VN"
      },
      "source": [
        "Подключаем библиотеки и загружаем и подготавливаем датасеты"
      ]
    },
    {
      "cell_type": "code",
      "execution_count": null,
      "metadata": {
        "id": "BZTEqNyUH3VO"
      },
      "outputs": [],
      "source": [
        "import py7zr\n",
        "import pandas as pd\n",
        "import pandas as pd\n",
        "from datetime import date, timedelta\n",
        "import win32com.client as win32\n",
        "import schedule\n",
        "import time\n",
        "import teradatasql\n",
        "import datetime\n",
        "import seaborn as sns\n",
        "import phik\n",
        "from phik.report import plot_correlation_matrix\n",
        "from phik import report"
      ]
    },
    {
      "cell_type": "code",
      "execution_count": null,
      "metadata": {
        "id": "NB8_EoREH3VP"
      },
      "outputs": [],
      "source": [
        "user=\"vitaly.**\"\n",
        "password=\"***\"\n",
        "query = '''select * from *****.vf_ad_hoc_finance_org'''"
      ]
    },
    {
      "cell_type": "code",
      "execution_count": null,
      "metadata": {
        "id": "X7hrvIaVH3VP"
      },
      "outputs": [],
      "source": [
        "with teradatasql.connect(host=\"********.ru\", user=user, password=password,logmech=\"ldap\", tmode=\"TERA\" ) as connect:\n",
        "    df = pd.read_sql(query, connect)\n",
        "df"
      ]
    },
    {
      "cell_type": "code",
      "execution_count": null,
      "metadata": {
        "id": "IHZf7TXoH3VQ"
      },
      "outputs": [],
      "source": [
        "df.info()"
      ]
    },
    {
      "cell_type": "code",
      "execution_count": null,
      "metadata": {
        "id": "lAxFGRLPH3VQ"
      },
      "outputs": [],
      "source": [
        "archive = py7zr.SevenZipFile('2022.7z', mode='r')\n",
        "archive.extractall()\n",
        "archive.close()"
      ]
    },
    {
      "cell_type": "code",
      "execution_count": null,
      "metadata": {
        "id": "YOSltlK2H3VQ"
      },
      "outputs": [],
      "source": [
        "df1 = pd.read_csv(\"МФО_01_12_2021 - 27_11_2022.csv\")\n",
        "df1"
      ]
    },
    {
      "cell_type": "code",
      "execution_count": null,
      "metadata": {
        "id": "jTzJ_urfH3VR"
      },
      "outputs": [],
      "source": [
        "input = df1['month']\n",
        "qw=[]\n",
        "# format\n",
        "format = '%m_%Y'\n",
        "for i in input:\n",
        "    \n",
        "    # convert from string format to datetime format\n",
        "    # and get the date\n",
        "    qw.append(datetime.datetime.strptime(i, format).date())"
      ]
    },
    {
      "cell_type": "code",
      "execution_count": null,
      "metadata": {
        "id": "l-h-_h_gH3VR"
      },
      "outputs": [],
      "source": [
        "df1['Month'] = qw\n",
        "df1"
      ]
    },
    {
      "cell_type": "code",
      "execution_count": null,
      "metadata": {
        "id": "7FmbaNFNH3VR",
        "outputId": "0f95e899-e1bb-40a1-affb-241638d61893"
      },
      "outputs": [
        {
          "data": {
            "text/plain": [
              "msisdn       0\n",
              "month        0\n",
              "kolvo_mfo    0\n",
              "kolvo_sms    0\n",
              "Month        0\n",
              "dtype: int64"
            ]
          },
          "execution_count": 296,
          "metadata": {},
          "output_type": "execute_result"
        }
      ],
      "source": [
        "df1.isnull().sum() #.sum () - в датафрейме количетсво незаполненных ячеек - 0"
      ]
    },
    {
      "cell_type": "code",
      "execution_count": null,
      "metadata": {
        "id": "5yZrpEbfH3VS"
      },
      "outputs": [],
      "source": [
        "#Распределение по количеству\n",
        "df1.groupby(['Month']).agg({'msisdn': ['count']}).reset_index().plot(kind='bar', x = 'Month', title= 'Распределение смс от МФО', color = 'red')\n",
        "\n"
      ]
    },
    {
      "cell_type": "code",
      "execution_count": null,
      "metadata": {
        "id": "i41jvyo9H3VS"
      },
      "outputs": [],
      "source": [
        "dfg=df1.groupby(['Month'])[['kolvo_sms', 'msisdn', 'kolvo_mfo']].agg(['mean'])\n",
        "dfg"
      ]
    },
    {
      "cell_type": "code",
      "execution_count": null,
      "metadata": {
        "id": "gftq0w9CH3VS"
      },
      "outputs": [],
      "source": [
        "g = sns.lmplot(\n",
        "    data=dfg,\n",
        "    x=\"kolvo_sms\", y=\"kolvo_mfo\",\n",
        "    height=5\n",
        ")"
      ]
    },
    {
      "cell_type": "code",
      "execution_count": null,
      "metadata": {
        "id": "Iyx4nKkCH3VS"
      },
      "outputs": [],
      "source": [
        "df['create_date_n']=df['create_date'].apply(lambda x: x.replace(day=1))\n",
        "df"
      ]
    },
    {
      "cell_type": "code",
      "execution_count": null,
      "metadata": {
        "id": "Yg1KW4ABH3VT"
      },
      "outputs": [],
      "source": [
        "df['create_date_1']=df['create_date_n'] - timedelta(1)"
      ]
    },
    {
      "cell_type": "code",
      "execution_count": null,
      "metadata": {
        "id": "d4yC2sqrH3VT"
      },
      "outputs": [],
      "source": [
        "df['create_date_1']=df['create_date_1'].apply(lambda x: x.replace(day=1))\n",
        "df"
      ]
    },
    {
      "cell_type": "code",
      "execution_count": null,
      "metadata": {
        "id": "T7WqsbQjH3VT"
      },
      "outputs": [],
      "source": [
        "df.groupby(['create_date_n'])[['nps']].agg(['mean']).plot(kind='bar')\n"
      ]
    },
    {
      "cell_type": "markdown",
      "metadata": {
        "id": "2lj-zEE-H3VT"
      },
      "source": [
        "объединение данных\n"
      ]
    },
    {
      "cell_type": "code",
      "execution_count": null,
      "metadata": {
        "id": "DorhaByWH3VT"
      },
      "outputs": [],
      "source": [
        "# 1 без условий, по номеру\n",
        "df_00 = pd.merge(df, df1, how='inner', on=['msisdn'])\n",
        "df_00"
      ]
    },
    {
      "cell_type": "code",
      "execution_count": null,
      "metadata": {
        "id": "Y-ftn_dKH3VT"
      },
      "outputs": [],
      "source": [
        "def f (row):\n",
        "    if row ['kolvo_sms']>11 :\n",
        "       val = 'yes' \n",
        "    else:\n",
        "        val = 'no'\n",
        "    return val\n",
        "df_00['more then 11'] = df_00.apply (f, axis=1)\n",
        "df_00['more then 11'].value_counts()\n",
        "\n",
        "d_2345=df_00.groupby(['more then 11'])[['kolvo_mfo', 'kolvo_sms', 'nps']].agg([ 'mean', 'count'])\n",
        "d_2345.columns = ['_'.join(col).strip() for col in d_2345.columns.values]\n",
        "d_2345"
      ]
    },
    {
      "cell_type": "code",
      "execution_count": null,
      "metadata": {
        "id": "EaMkRR97H3VU"
      },
      "outputs": [],
      "source": [
        "d00=df_00.groupby(['Month'])[['kolvo_sms', 'nps', 'kolvo_mfo']].agg(['mean'])\n",
        "d00.corr()"
      ]
    },
    {
      "cell_type": "code",
      "execution_count": null,
      "metadata": {
        "id": "buL3a1uWH3VU"
      },
      "outputs": [],
      "source": [
        "g0 = sns.lmplot(\n",
        "    data=d00,\n",
        "    x=\"nps\", y=\"kolvo_sms\",\n",
        "    height=5\n",
        ")\n",
        "g1 = sns.lmplot(\n",
        "    data=d00,\n",
        "    x=\"nps\", y=\"kolvo_mfo\",\n",
        "    height=5\n",
        ")"
      ]
    },
    {
      "cell_type": "markdown",
      "metadata": {
        "id": "1BZKNSnDH3VU"
      },
      "source": [
        "Объеденение с уловиями месяц = месяц, месяц  = месяц - 1"
      ]
    },
    {
      "cell_type": "code",
      "execution_count": null,
      "metadata": {
        "id": "oWihEJZ2H3VU"
      },
      "outputs": [],
      "source": [
        "df_0 = pd.merge(df, df1, how='inner', left_on=['msisdn', 'create_date_n'] \\\n",
        ", right_on = ['msisdn','Month'])\n",
        "df_0= df_0[['create_date', 'create_date_n', 'Month', 'msisdn', 'nps', 'kolvo_mfo', 'kolvo_sms', 'age', 'gender', 'ltr' ]]\n",
        "df_0"
      ]
    },
    {
      "cell_type": "code",
      "execution_count": null,
      "metadata": {
        "id": "KA88gFZDH3VV"
      },
      "outputs": [],
      "source": [
        "d0=df_0.groupby(['Month'])[['kolvo_sms', 'nps', 'kolvo_mfo']].agg(['mean'])\n",
        "d0.corr()\n"
      ]
    },
    {
      "cell_type": "code",
      "execution_count": null,
      "metadata": {
        "id": "In1Z3jC0H3VV"
      },
      "outputs": [],
      "source": [
        "g0 = sns.lmplot(\n",
        "    data=d0,\n",
        "    x=\"nps\", y=\"kolvo_mfo\",\n",
        "    height=5\n",
        ")"
      ]
    },
    {
      "cell_type": "code",
      "execution_count": null,
      "metadata": {
        "id": "i0zS20HcH3VV"
      },
      "outputs": [],
      "source": [
        "d02=df_0.groupby(['kolvo_sms'])[['kolvo_mfo', 'nps', ]].agg(['mean', 'sum'])\n",
        "d02"
      ]
    },
    {
      "cell_type": "code",
      "execution_count": null,
      "metadata": {
        "id": "8xfRnDuEH3VV"
      },
      "outputs": [],
      "source": [
        "g04 = sns.lmplot(\n",
        "    data=d02,\n",
        "    x=\"nps\", y=\"kolvo_sms\",\n",
        "    height=5\n",
        ")"
      ]
    },
    {
      "cell_type": "code",
      "execution_count": null,
      "metadata": {
        "id": "IioxyGQLH3VV"
      },
      "outputs": [],
      "source": [
        "df_0['bins']=pd.qcut(df_0['kolvo_sms'], q=4)\n",
        "df_0"
      ]
    },
    {
      "cell_type": "code",
      "execution_count": null,
      "metadata": {
        "id": "RnGQowRQH3VV"
      },
      "outputs": [],
      "source": [
        "df_0['bins'].value_counts()"
      ]
    },
    {
      "cell_type": "code",
      "execution_count": null,
      "metadata": {
        "id": "GnfYXNLrH3VW"
      },
      "outputs": [],
      "source": [
        "df11 = df_0[df_0['kolvo_sms'] >=11]\n",
        "df11"
      ]
    },
    {
      "cell_type": "code",
      "execution_count": null,
      "metadata": {
        "id": "-WEp0NGZH3VW"
      },
      "outputs": [],
      "source": [
        "d_11=df11.groupby(['kolvo_mfo'])[['kolvo_sms']].agg(['mean', 'sum', 'count'])\n",
        "d_11.columns = ['_'.join(col).strip() for col in d_11.columns.values]\n",
        "d_11['kolvo_sms_mean'].plot(color ='tab:red', ylabel='kolvo_sms' , title='Зависимость смс от МФО')\n",
        "\n"
      ]
    },
    {
      "cell_type": "code",
      "execution_count": null,
      "metadata": {
        "id": "ivF6kF3VH3VW"
      },
      "outputs": [],
      "source": [
        "d_2=df_0.groupby(['bins'])[['kolvo_mfo', 'kolvo_sms', 'nps']].agg([ 'mean', 'sum'])\n",
        "d_2.columns = ['_'.join(col).strip() for col in d_2.columns.values]\n",
        "d_2[['kolvo_mfo_mean', 'kolvo_mfo_sum', 'kolvo_sms_mean', 'kolvo_sms_sum','nps_mean']]"
      ]
    },
    {
      "cell_type": "code",
      "execution_count": null,
      "metadata": {
        "id": "GPlJ5_d8H3VW"
      },
      "outputs": [],
      "source": [
        "sns.heatmap(d_2[['kolvo_mfo_mean', 'kolvo_mfo_sum', 'kolvo_sms_mean', 'kolvo_sms_sum','nps_mean']].corr())"
      ]
    },
    {
      "cell_type": "code",
      "execution_count": null,
      "metadata": {
        "id": "_fTgdn2XH3VW"
      },
      "outputs": [],
      "source": [
        "df_0"
      ]
    },
    {
      "cell_type": "code",
      "execution_count": null,
      "metadata": {
        "id": "-i98LS9VH3VW"
      },
      "outputs": [],
      "source": [
        "df_0.drop('bins_2', axis= 1 , inplace= True ) "
      ]
    },
    {
      "cell_type": "code",
      "execution_count": null,
      "metadata": {
        "id": "Q2JhUtXrH3VW"
      },
      "outputs": [],
      "source": [
        "def f (row):\n",
        "    if row ['kolvo_sms']>11 :\n",
        "       val = 'yes' \n",
        "    else:\n",
        "        val = 'no'\n",
        "    return val\n",
        "df_0['more then 11'] = df_0.apply (f, axis=1)\n",
        "df_0['more then 11'].value_counts()\n"
      ]
    },
    {
      "cell_type": "code",
      "execution_count": null,
      "metadata": {
        "id": "qD5owelXH3VX"
      },
      "outputs": [],
      "source": [
        "d_23=df_0.groupby(['more then 11'])[['kolvo_mfo', 'kolvo_sms', 'nps']].agg([ 'mean', 'count'])\n",
        "d_23.columns = ['_'.join(col).strip() for col in d_23.columns.values]"
      ]
    },
    {
      "cell_type": "code",
      "execution_count": null,
      "metadata": {
        "id": "8oJE_-_TH3VX"
      },
      "outputs": [],
      "source": [
        "d_23"
      ]
    },
    {
      "cell_type": "markdown",
      "metadata": {
        "id": "0WP7-OhMH3VX"
      },
      "source": [
        "-month\n"
      ]
    },
    {
      "cell_type": "code",
      "execution_count": null,
      "metadata": {
        "id": "P5xG4xwxH3VX"
      },
      "outputs": [],
      "source": [
        "df_1 = pd.merge(df, df1, how='inner', left_on=['msisdn', 'create_date_1'] \\\n",
        ", right_on = ['msisdn','Month'])\n",
        "df_1 = df_1[['create_date', 'create_date_1', 'Month', 'msisdn', 'nps', 'kolvo_mfo', 'kolvo_sms', 'age', 'gender', 'ltr' ]]\n",
        "df_1"
      ]
    },
    {
      "cell_type": "code",
      "execution_count": null,
      "metadata": {
        "id": "7uY887VZH3VX"
      },
      "outputs": [],
      "source": [
        "df_1"
      ]
    },
    {
      "cell_type": "code",
      "execution_count": null,
      "metadata": {
        "id": "q1U1nOtMH3VX"
      },
      "outputs": [],
      "source": [
        "df12 = df_1[df_0['kolvo_sms'] >=11]\n",
        "df12"
      ]
    },
    {
      "cell_type": "code",
      "execution_count": null,
      "metadata": {
        "id": "Xfwndlq1H3VX",
        "outputId": "c020a831-88c4-4b40-c215-a746279b568f"
      },
      "outputs": [
        {
          "data": {
            "text/plain": [
              "no     1280\n",
              "yes     458\n",
              "Name: more then 11, dtype: int64"
            ]
          },
          "execution_count": 541,
          "metadata": {},
          "output_type": "execute_result"
        }
      ],
      "source": [
        "def f (row):\n",
        "    if row ['kolvo_sms']>11 :\n",
        "       val = 'yes' \n",
        "    else:\n",
        "        val = 'no'\n",
        "    return val\n",
        "df_1['more then 11'] = df_1.apply (f, axis=1)\n",
        "df_1['more then 11'].value_counts()"
      ]
    },
    {
      "cell_type": "code",
      "execution_count": null,
      "metadata": {
        "id": "rvtuCeqAH3VY"
      },
      "outputs": [],
      "source": [
        "d_234=df_1.groupby(['more then 11'])[['kolvo_mfo', 'kolvo_sms', 'nps']].agg([ 'mean', 'count'])\n",
        "d_234.columns = ['_'.join(col).strip() for col in d_234.columns.values]\n",
        "d_234"
      ]
    },
    {
      "cell_type": "code",
      "execution_count": null,
      "metadata": {
        "id": "TV0ZYFHAH3VY"
      },
      "outputs": [],
      "source": [
        "d1=df_1.groupby(['Month'])[['kolvo_sms', 'kolvo_mfo', 'nps']].agg([ 'mean'])\n",
        "print(d1.corr())\n",
        "sns.heatmap(df_1[['kolvo_mfo','kolvo_sms','nps']].corr())"
      ]
    },
    {
      "cell_type": "code",
      "execution_count": null,
      "metadata": {
        "id": "s4KurxoWH3VY"
      },
      "outputs": [],
      "source": [
        "g2 = sns.lmplot(\n",
        "    data=d1,\n",
        "    x=\"nps\", y=\"kolvo_sms\",\n",
        "    height=5\n",
        ")\n"
      ]
    },
    {
      "cell_type": "code",
      "execution_count": null,
      "metadata": {
        "id": "0lQaL5QzH3VY"
      },
      "outputs": [],
      "source": [
        "d2=df_1.groupby(['kolvo_sms'])[['kolvo_mfo', 'nps']].agg([ 'mean', 'count'])\n",
        "d2.columns = ['_'.join(col).strip() for col in d2.columns.values]\n",
        "d2\n",
        "#df_1['bins'] = pd.cut(d2['kolvo_sms'],3)\n"
      ]
    },
    {
      "cell_type": "code",
      "execution_count": null,
      "metadata": {
        "id": "NvRoOHonH3VY"
      },
      "outputs": [],
      "source": [
        "df_1['bins']=pd.qcut(df_1['kolvo_sms'], q=4)\n",
        "df_1"
      ]
    },
    {
      "cell_type": "code",
      "execution_count": null,
      "metadata": {
        "id": "iRI2Q7u4H3VY"
      },
      "outputs": [],
      "source": [
        "df_1['bins'].value_counts()"
      ]
    },
    {
      "cell_type": "code",
      "execution_count": null,
      "metadata": {
        "id": "Fp2d4fJzH3VY"
      },
      "outputs": [],
      "source": [
        "d3=df_1.groupby(['bins'])[['kolvo_mfo', 'kolvo_sms', 'nps']].agg([ 'mean', 'sum'])\n",
        "d3.columns = ['_'.join(col).strip() for col in d3.columns.values]\n",
        "d3[['kolvo_mfo_mean', 'kolvo_mfo_sum', 'kolvo_sms_mean', 'kolvo_sms_sum','nps_mean']]\n"
      ]
    },
    {
      "cell_type": "code",
      "execution_count": null,
      "metadata": {
        "id": "HgyfZEHQH3VY"
      },
      "outputs": [],
      "source": [
        "d3[['kolvo_mfo_mean', 'kolvo_mfo_sum', 'kolvo_sms_mean', 'kolvo_sms_sum','nps_mean']].corr()"
      ]
    },
    {
      "cell_type": "code",
      "execution_count": null,
      "metadata": {
        "id": "li0TB8ZoH3VZ"
      },
      "outputs": [],
      "source": []
    },
    {
      "cell_type": "code",
      "execution_count": null,
      "metadata": {
        "id": "7iL_kCx_H3VZ"
      },
      "outputs": [],
      "source": []
    },
    {
      "cell_type": "code",
      "execution_count": null,
      "metadata": {
        "id": "Ommx4uzAH3VZ"
      },
      "outputs": [],
      "source": []
    },
    {
      "cell_type": "code",
      "execution_count": null,
      "metadata": {
        "id": "X7LHC93pH3VZ"
      },
      "outputs": [],
      "source": [
        "sns.boxplot(x=\"ltr\", y=\"kolvo_mfo\",\n",
        "          \n",
        "            data=df_0)"
      ]
    },
    {
      "cell_type": "code",
      "execution_count": null,
      "metadata": {
        "id": "mu6uP8LHH3VZ"
      },
      "outputs": [],
      "source": [
        "df_0"
      ]
    },
    {
      "cell_type": "code",
      "execution_count": null,
      "metadata": {
        "id": "dbDRn22MH3VZ"
      },
      "outputs": [],
      "source": [
        "sns.scatterplot(data = df_0, x='kolvo_mfo' , y = 'kolvo_sms', hue = 'gender')"
      ]
    },
    {
      "cell_type": "code",
      "execution_count": null,
      "metadata": {
        "id": "HdfHaJ7yH3VZ"
      },
      "outputs": [],
      "source": [
        "sns.displot(data=df_0, x=\"ltr\")\n",
        "sns.displot(data=df_0, x=\"age\")\n"
      ]
    },
    {
      "cell_type": "code",
      "execution_count": null,
      "metadata": {
        "id": "KE4bP6fTH3VZ"
      },
      "outputs": [],
      "source": []
    },
    {
      "cell_type": "code",
      "execution_count": null,
      "metadata": {
        "id": "25D2uR1-H3VZ"
      },
      "outputs": [],
      "source": []
    },
    {
      "cell_type": "code",
      "execution_count": null,
      "metadata": {
        "id": "7i1OQLZYH3Va"
      },
      "outputs": [],
      "source": []
    },
    {
      "cell_type": "code",
      "execution_count": null,
      "metadata": {
        "id": "lblJ6FN3H3Va"
      },
      "outputs": [],
      "source": []
    }
  ],
  "metadata": {
    "kernelspec": {
      "display_name": "base",
      "language": "python",
      "name": "python3"
    },
    "language_info": {
      "codemirror_mode": {
        "name": "ipython",
        "version": 3
      },
      "file_extension": ".py",
      "mimetype": "text/x-python",
      "name": "python",
      "nbconvert_exporter": "python",
      "pygments_lexer": "ipython3",
      "version": "3.9.13"
    },
    "orig_nbformat": 4,
    "vscode": {
      "interpreter": {
        "hash": "d9acfe8064b338b087cf5b985d533c132426f668fd9f5be560d7a729870e8555"
      }
    },
    "colab": {
      "provenance": [],
      "include_colab_link": true
    }
  },
  "nbformat": 4,
  "nbformat_minor": 0
}