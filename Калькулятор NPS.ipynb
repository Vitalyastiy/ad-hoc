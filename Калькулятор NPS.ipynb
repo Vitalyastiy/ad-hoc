{
 "cells": [
  {
   "cell_type": "code",
   "execution_count": null,
   "metadata": {},
   "outputs": [],
   "source": [
    "import pandas as pd\n",
    "import numpy as np\n",
    "Interval=[1,2,3,4,5,6,7,8,9,10]\n",
    "A=np.random.choice(Interval,387,p=[0.05,0.05,0.05,0.05,0.05,0.05,0.05,0.1,0.35,0.2])\n",
    "B=np.random.choice(Interval,387,p=[0.02,0.01,0.02,0.05,0.15,0.05,0.05,0.15,0.3,0.2])\n",
    "C=np.random.choice(Interval,387,p=[0.05,0.01,0.05,0.02,0.05,0.1,0.1,0.1,0.3,0.22])\n",
    "Data=pd.DataFrame({'Company A':A,'Company B':B,'Company C':C})\n",
    "\n",
    "lower_score_A=[]\n",
    "upper_score_A=[]\n",
    "for i in Data['Company A']:\n",
    "    if(i<=6):\n",
    "        \n",
    "        lower_score_A.append(i)\n",
    "    elif(i>8):\n",
    "        upper_score_A.append(i)\n",
    "        n_lower_A=len(lower_score_A)/len(Data['Company A'])\n",
    "        n_upper_A=len(upper_score_A)/len(Data['Company A'])\n",
    "        nps_A=round((n_upper_A-n_lower_A),2)\n",
    "############################\n",
    "lower_score_B=[]\n",
    "upper_score_B=[]\n",
    "for j in Data['Company B']:\n",
    "    if(j<=6):\n",
    "        lower_score_B.append(j)\n",
    "    elif(j>8):\n",
    "        upper_score_B.append(j)\n",
    "        n_lower_B=len(lower_score_B)/len(Data['Company B'])\n",
    "        n_upper_B=len(upper_score_B)/len(Data['Company B'])\n",
    "        nps_B=round((n_upper_B-n_lower_B),2)\n",
    "\n",
    "############################\n",
    "lower_score_C=[]\n",
    "upper_score_C=[]\n",
    "\n",
    "for k in Data['Company C']:\n",
    "    if(k<=6):\n",
    "        lower_score_C.append(k)\n",
    "    elif(k>8):\n",
    "        upper_score_C.append(k)\n",
    "        n_lower_C=len(lower_score_C)/len(Data['Company C'])\n",
    "        n_upper_C=len(upper_score_C)/len(Data['Company C'])\n",
    "        nps_C=round((n_upper_C-n_lower_C),2)\n",
    "        \n",
    "print(f'NPS for: A is {0}, for B is {1}, for is C {2}'.format(nps_A,nps_B,nps_C))"
   ]
  }
 ],
 "metadata": {
  "kernelspec": {
   "display_name": "Python 3.9.13 ('base')",
   "language": "python",
   "name": "python3"
  },
  "language_info": {
   "codemirror_mode": {
    "name": "ipython",
    "version": 3
   },
   "file_extension": ".py",
   "mimetype": "text/x-python",
   "name": "python",
   "nbconvert_exporter": "python",
   "pygments_lexer": "ipython3",
   "version": "3.9.13"
  },
  "orig_nbformat": 4,
  "vscode": {
   "interpreter": {
    "hash": "d9acfe8064b338b087cf5b985d533c132426f668fd9f5be560d7a729870e8555"
   }
  }
 },
 "nbformat": 4,
 "nbformat_minor": 2
}
