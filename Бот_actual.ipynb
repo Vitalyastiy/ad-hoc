{
 "cells": [
  {
   "cell_type": "code",
   "execution_count": 15,
   "metadata": {},
   "outputs": [],
   "source": [
    "import pandas as pd\n",
    "import numpy as np\n",
    "import matplotlib.pyplot as plt\n",
    "import seaborn as sns\n",
    "import io\n",
    "from tabulate import tabulate\n",
    "import time\n",
    "from datetime import date, timedelta\n",
    "import win32com.client as win32\n",
    "import teradatasql\n",
    "import openpyxl\n",
    "import matplotlib.pyplot as plt\n",
    "import telebot\n",
    "import logging\n",
    "import types\n"
   ]
  },
  {
   "cell_type": "code",
   "execution_count": 7,
   "metadata": {},
   "outputs": [
    {
     "name": "stderr",
     "output_type": "stream",
     "text": [
      "C:\\Users\\vitaly.flerin\\AppData\\Local\\Temp\\ipykernel_8276\\3506826681.py:5: UserWarning: pandas only supports SQLAlchemy connectable (engine/connection) or database string URI or sqlite3 DBAPI2 connection. Other DBAPI2 objects are not tested. Please consider using SQLAlchemy.\n",
      "  df = pd.read_sql(query, connect)\n"
     ]
    }
   ],
   "source": [
    "user=input('ввести логин терадаты')\n",
    "password=input(\"пароль от терадаты\")\n",
    "query = '''select * from uat_ca.vf_for_tg_test'''\n",
    "with teradatasql.connect(host=\"td2800.corp.tele2.ru\", user=user, password=password,logmech=\"ldap\", tmode=\"TERA\" ) as connect:\n",
    "    df = pd.read_sql(query, connect)"
   ]
  },
  {
   "attachments": {},
   "cell_type": "markdown",
   "metadata": {},
   "source": [
    "подготовка"
   ]
  },
  {
   "cell_type": "code",
   "execution_count": 9,
   "metadata": {},
   "outputs": [],
   "source": [
    "token = '5859647042:AAE0VTK8RlKrhFx7Mv9HeJS3tFK7aZ_J4W4'\n",
    "your_chat_id = '322276469'\n",
    "chat_id = '322276469'\n",
    "bot = telebot.TeleBot(token)\n",
    "#Даша =1482693734"
   ]
  },
  {
   "cell_type": "markdown",
   "metadata": {},
   "source": [
    "бэкэнд\n"
   ]
  },
  {
   "cell_type": "code",
   "execution_count": null,
   "metadata": {},
   "outputs": [],
   "source": [
    "\n",
    "from telegram import ReplyKeyboardMarkup, KeyboardButton\n",
    "\n",
    "@bot.message_handler(commands=['start', 'help'])\n",
    "def send_welcome(message):\n",
    "    if message.from_user.id != bot.get_me().id:\n",
    "        markup = ReplyKeyboardMarkup(row_width=2)\n",
    "        item1 = KeyboardButton('/hello')\n",
    "        item2 = KeyboardButton('/plot')\n",
    "        item2 = KeyboardButton('/inf')\n",
    "        markup.add(item1, item2)\n",
    "        bot.send_message(chat_id=message.chat.id, text=\"Привет!\", reply_markup=markup)\n",
    "\n",
    "@bot.message_handler(commands=['hello', 'inf'])\n",
    "def send_hello(message):\n",
    "    if message.from_user.id != bot.get_me().id:\n",
    "        t = \"Good day to you too!\" # Заменили данные на сообщение приветствия\n",
    "        t_str = str(t)\n",
    "        # Send the message to the user\n",
    "        bot.send_message(chat_id=message.chat.id, text=t_str)\n",
    "\n",
    "@bot.message_handler(commands=['plot'])\n",
    "def send_plot(message):\n",
    "    if message.from_user.id != bot.get_me().id:\n",
    "        # Создаем данные для графика       \n",
    "# построение графика\n",
    "        df['create_month'] = pd.to_datetime(df['create_month'])\n",
    "        df['year'] = df['create_month'].dt.year\n",
    "        df['month'] = df['create_month'].dt.month\n",
    "        df_pivot = df.pivot_table(index='month', columns='year', values='nps')\n",
    "        df_pivot.plot()\n",
    "        # настройка осей и легенды\n",
    "        plt.xlabel('Month')\n",
    "        plt.ylabel('NPS')\n",
    "        plt.title('NPS by Month and Year')\n",
    "        plt.legend(title='Year')\n",
    "        # Сохраняем график в объект io.BytesIO\n",
    "        plot_object = io.BytesIO()\n",
    "        plt.savefig(plot_object)\n",
    "        plot_object.seek(0) \n",
    "        # Отправляем график через бота\n",
    "        bot.send_photo(chat_id=message.chat.id, photo=plot_object)\n",
    "# Запускаем процесс диспетчеризации\n",
    "bot.polling()"
   ]
  },
  {
   "cell_type": "markdown",
   "metadata": {},
   "source": [
    "Other"
   ]
  },
  {
   "cell_type": "code",
   "execution_count": null,
   "metadata": {},
   "outputs": [],
   "source": [
    "#https://api.telegram.org/bot5859647042:AAE0VTK8RlKrhFx7Mv9HeJS3tFK7aZ_J4W4/getUpdates\n",
    "# как узнать свой чат ай ди, - пройти по ссылке\n",
    "bot = telebot.TeleBot(\"5859647042:AAE0VTK8RlKrhFx7Mv9HeJS3tFK7aZ_J4W4\")\n",
    "# Получаем список обновлений\n",
    "updates = bot.get_updates()\n",
    "# Получаем последнее обновление\n",
    "last_update = updates[-1]\n",
    "# Получаем chat_id из последнего обновления\n",
    "chat_id = last_update.message.chat.id\n",
    "print(chat_id)"
   ]
  },
  {
   "attachments": {},
   "cell_type": "markdown",
   "metadata": {},
   "source": [
    "самостоятельная рассылка"
   ]
  },
  {
   "cell_type": "code",
   "execution_count": 11,
   "metadata": {},
   "outputs": [],
   "source": [
    "#просто текст\n",
    "#отправлем сообщение всем подписчикам\n",
    "#Получаем список всех подписчиков бота\n",
    "subscribers = bot.get_updates()\n",
    "test = 'Hello, me!'\n",
    "# Отправляем сообщение себе\n",
    "bot.send_message(chat_id=your_chat_id, text=test )\n",
    "# Отправляем сообщение каждому подписчику\n",
    "for subscriber in subscribers:\n",
    "    if subscriber and subscriber.message and subscriber.message.chat:\n",
    "        user_id = subscriber.message.chat.id\n",
    "        bot.send_message(chat_id=user_id, text=test)"
   ]
  }
 ],
 "metadata": {
  "kernelspec": {
   "display_name": "base",
   "language": "python",
   "name": "python3"
  },
  "language_info": {
   "codemirror_mode": {
    "name": "ipython",
    "version": 3
   },
   "file_extension": ".py",
   "mimetype": "text/x-python",
   "name": "python",
   "nbconvert_exporter": "python",
   "pygments_lexer": "ipython3",
   "version": "3.9.13"
  },
  "orig_nbformat": 4
 },
 "nbformat": 4,
 "nbformat_minor": 2
}
