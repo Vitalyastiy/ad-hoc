{
 "cells": [
  {
   "cell_type": "code",
   "execution_count": 41,
   "metadata": {},
   "outputs": [],
   "source": [
    "import pandas as pd\n",
    "import numpy as np\n",
    "import scipy.stats as stats\n",
    "import seaborn as sns"
   ]
  },
  {
   "cell_type": "code",
   "execution_count": null,
   "metadata": {},
   "outputs": [],
   "source": [
    "df = pd.read_excel('file_python.xlsx')\n",
    "df.describe()"
   ]
  },
  {
   "cell_type": "code",
   "execution_count": 13,
   "metadata": {},
   "outputs": [
    {
     "name": "stdout",
     "output_type": "stream",
     "text": [
      "<class 'pandas.core.frame.DataFrame'>\n",
      "RangeIndex: 487008 entries, 0 to 487007\n",
      "Data columns (total 59 columns):\n",
      " #   Column                        Non-Null Count   Dtype         \n",
      "---  ------                        --------------   -----         \n",
      " 0   create_month                  487008 non-null  datetime64[ns]\n",
      " 1   create_date                   477771 non-null  datetime64[ns]\n",
      " 2   report_date                   487008 non-null  datetime64[ns]\n",
      " 3   m_diff                        487008 non-null  object        \n",
      " 4   cluster_name                  477771 non-null  object        \n",
      " 5   macroregion                   477771 non-null  object        \n",
      " 6   region                        477771 non-null  object        \n",
      " 7   cust_id                       477771 non-null  float64       \n",
      " 8   subs_id                       487008 non-null  int64         \n",
      " 9   msisdn                        487008 non-null  int64         \n",
      " 10  lt_day                        477771 non-null  float64       \n",
      " 11  lt_gr                         477771 non-null  object        \n",
      " 12  age                           477771 non-null  float64       \n",
      " 13  age_gr                        474286 non-null  object        \n",
      " 14  gender                        476946 non-null  object        \n",
      " 15  tp_id                         477771 non-null  float64       \n",
      " 16  tp_grade                      477771 non-null  object        \n",
      " 17  tp_concept                    477771 non-null  object        \n",
      " 18  start_dttm                    477771 non-null  datetime64[ns]\n",
      " 19  end_dttm                      477771 non-null  object        \n",
      " 20  diff_day_tp                   391471 non-null  float64       \n",
      " 21  m_diff_tp                     391471 non-null  object        \n",
      " 22  m_diff_tp2                    391471 non-null  object        \n",
      " 23  nps                           477771 non-null  float64       \n",
      " 24  nps_key                       477771 non-null  float64       \n",
      " 25  total_revenue                 477771 non-null  float64       \n",
      " 26  subs_fee                      477771 non-null  float64       \n",
      " 27  serv_rev                      477771 non-null  float64       \n",
      " 28  cm1                           477771 non-null  float64       \n",
      " 29  cm2                           477771 non-null  float64       \n",
      " 30  cm4                           477771 non-null  float64       \n",
      " 31  cm1_cost                      477771 non-null  float64       \n",
      " 32  voice_min                     477771 non-null  float64       \n",
      " 33  data_traffic                  477771 non-null  float64       \n",
      " 34  rev_flg                       477771 non-null  float64       \n",
      " 35  subs_fee_flg                  477771 non-null  float64       \n",
      " 36  voice_flg                     477771 non-null  float64       \n",
      " 37  data_flg                      477771 non-null  float64       \n",
      " 38  adu_flg                       477771 non-null  float64       \n",
      " 39  day_tp_flg                    477771 non-null  float64       \n",
      " 40  change_tp_flg                 487008 non-null  int64         \n",
      " 41  subs_cnt                      487008 non-null  int64         \n",
      " 42  revenue_cnt                   487008 non-null  int64         \n",
      " 43  voice_cnt                     487008 non-null  int64         \n",
      " 44  data_cnt                      487008 non-null  int64         \n",
      " 45  cm1_cnt                       487008 non-null  int64         \n",
      " 46  cm2_cnt                       487008 non-null  int64         \n",
      " 47  cm4_cnt                       487008 non-null  int64         \n",
      " 48  cm1_cost_cnt                  487008 non-null  int64         \n",
      " 49  disc_flg                      487008 non-null  int64         \n",
      " 50  cls                           487008 non-null  int64         \n",
      " 51  ls                            487008 non-null  int64         \n",
      " 52  revenue_total_cls             487008 non-null  float64       \n",
      " 53  data_traffic_cls              487008 non-null  float64       \n",
      " 54  min_total_cls                 487008 non-null  float64       \n",
      " 55  cls_flg                       487008 non-null  int64         \n",
      " 56  create_month (Индекс месяца)  487008 non-null  int64         \n",
      " 57  create_month (Месяц)          487008 non-null  object        \n",
      " 58  share                         487008 non-null  float64       \n",
      "dtypes: datetime64[ns](4), float64(26), int64(16), object(13)\n",
      "memory usage: 219.2+ MB\n"
     ]
    }
   ],
   "source": [
    "df.info()"
   ]
  },
  {
   "cell_type": "code",
   "execution_count": 116,
   "metadata": {},
   "outputs": [
    {
     "data": {
      "text/html": [
       "<div>\n",
       "<style scoped>\n",
       "    .dataframe tbody tr th:only-of-type {\n",
       "        vertical-align: middle;\n",
       "    }\n",
       "\n",
       "    .dataframe tbody tr th {\n",
       "        vertical-align: top;\n",
       "    }\n",
       "\n",
       "    .dataframe thead th {\n",
       "        text-align: right;\n",
       "    }\n",
       "</style>\n",
       "<table border=\"1\" class=\"dataframe\">\n",
       "  <thead>\n",
       "    <tr style=\"text-align: right;\">\n",
       "      <th></th>\n",
       "      <th>total_revenue</th>\n",
       "      <th>region</th>\n",
       "      <th>m_diff</th>\n",
       "      <th>subs_id</th>\n",
       "    </tr>\n",
       "  </thead>\n",
       "  <tbody>\n",
       "    <tr>\n",
       "      <th>0</th>\n",
       "      <td>0.00</td>\n",
       "      <td>Волгоград</td>\n",
       "      <td>lt-3</td>\n",
       "      <td>66763838</td>\n",
       "    </tr>\n",
       "    <tr>\n",
       "      <th>1</th>\n",
       "      <td>0.00</td>\n",
       "      <td>С.Петербург</td>\n",
       "      <td>lt-3</td>\n",
       "      <td>200085248261</td>\n",
       "    </tr>\n",
       "    <tr>\n",
       "      <th>2</th>\n",
       "      <td>0.00</td>\n",
       "      <td>Пермь</td>\n",
       "      <td>lt-4</td>\n",
       "      <td>300000826974</td>\n",
       "    </tr>\n",
       "    <tr>\n",
       "      <th>3</th>\n",
       "      <td>0.00</td>\n",
       "      <td>Волгоград</td>\n",
       "      <td>lt-4</td>\n",
       "      <td>66763838</td>\n",
       "    </tr>\n",
       "    <tr>\n",
       "      <th>4</th>\n",
       "      <td>0.00</td>\n",
       "      <td>Белгород</td>\n",
       "      <td>lt-5</td>\n",
       "      <td>61323598</td>\n",
       "    </tr>\n",
       "    <tr>\n",
       "      <th>...</th>\n",
       "      <td>...</td>\n",
       "      <td>...</td>\n",
       "      <td>...</td>\n",
       "      <td>...</td>\n",
       "    </tr>\n",
       "    <tr>\n",
       "      <th>487003</th>\n",
       "      <td>400.95</td>\n",
       "      <td>Москва</td>\n",
       "      <td>lt-8</td>\n",
       "      <td>300005160152</td>\n",
       "    </tr>\n",
       "    <tr>\n",
       "      <th>487004</th>\n",
       "      <td>446.98</td>\n",
       "      <td>Москва</td>\n",
       "      <td>lt-9</td>\n",
       "      <td>300005160152</td>\n",
       "    </tr>\n",
       "    <tr>\n",
       "      <th>487005</th>\n",
       "      <td>445.99</td>\n",
       "      <td>Москва</td>\n",
       "      <td>lt-10</td>\n",
       "      <td>300005160152</td>\n",
       "    </tr>\n",
       "    <tr>\n",
       "      <th>487006</th>\n",
       "      <td>328.18</td>\n",
       "      <td>Москва</td>\n",
       "      <td>lt-11</td>\n",
       "      <td>300005160152</td>\n",
       "    </tr>\n",
       "    <tr>\n",
       "      <th>487007</th>\n",
       "      <td>649.48</td>\n",
       "      <td>Москва</td>\n",
       "      <td>lt-12</td>\n",
       "      <td>300005160152</td>\n",
       "    </tr>\n",
       "  </tbody>\n",
       "</table>\n",
       "<p>487008 rows × 4 columns</p>\n",
       "</div>"
      ],
      "text/plain": [
       "        total_revenue       region m_diff       subs_id\n",
       "0                0.00    Волгоград   lt-3      66763838\n",
       "1                0.00  С.Петербург   lt-3  200085248261\n",
       "2                0.00        Пермь   lt-4  300000826974\n",
       "3                0.00    Волгоград   lt-4      66763838\n",
       "4                0.00     Белгород   lt-5      61323598\n",
       "...               ...          ...    ...           ...\n",
       "487003         400.95       Москва   lt-8  300005160152\n",
       "487004         446.98       Москва   lt-9  300005160152\n",
       "487005         445.99       Москва  lt-10  300005160152\n",
       "487006         328.18       Москва  lt-11  300005160152\n",
       "487007         649.48       Москва  lt-12  300005160152\n",
       "\n",
       "[487008 rows x 4 columns]"
      ]
     },
     "execution_count": 116,
     "metadata": {},
     "output_type": "execute_result"
    }
   ],
   "source": [
    "df_f = df[[\"total_revenue\", \"region\", 'm_diff', 'subs_id']] #\n",
    "df_f = df_f.dropna (subset=['total_revenue'])\n",
    "df_f.isnull().sum ()"
   ]
  },
  {
   "cell_type": "code",
   "execution_count": 102,
   "metadata": {},
   "outputs": [
    {
     "name": "stdout",
     "output_type": "stream",
     "text": [
      "-2.698 2.698\n"
     ]
    }
   ],
   "source": [
    "q1 = -0.6745\n",
    "q3 = 0.6745\n",
    " \n",
    "iqr = q3 - q1\n",
    " \n",
    "lower_bound = q1 - (1.5 * iqr) \n",
    "upper_bound = q3 + (1.5 * iqr)\n",
    " \n",
    "# тогда lower_bound и upper_bound почти равны трем СКО от среднего\n",
    "# (было бы точнее, если использовать 1.75)\n",
    "print(lower_bound, upper_bound)\n"
   ]
  },
  {
   "cell_type": "code",
   "execution_count": 119,
   "metadata": {},
   "outputs": [],
   "source": [
    "df_f.reset_index(drop= True , inplace= True )\n",
    "df_f.head(10)"
   ]
  },
  {
   "cell_type": "code",
   "execution_count": 121,
   "metadata": {},
   "outputs": [],
   "source": [
    "# пункт два через квартили\n",
    "x = df_f\n",
    "x['result'] = np.nan \n",
    "total_df = pd.DataFrame()\n",
    "for region in x['region'].unique().tolist():\n",
    "    tmp_df = x[x['region'] == region]\n",
    "    #tmp_df.drop('Region', axis= 1 , inplace= True )\n",
    "    #межквартильный \n",
    "    Q1 = np.percentile(tmp_df['total_revenue'], 25,interpolation = 'midpoint')\n",
    "    Q3 = np.percentile(tmp_df['total_revenue'], 75,interpolation = 'midpoint')\n",
    "    IQR = Q3 - Q1\n",
    "    # Above Upper bound\n",
    "    upper=Q3+1.5*IQR\n",
    "    #Below Lower bound\n",
    "    lower=Q1-1.5*IQR\n",
    "    for i,row in tmp_df.iterrows():\n",
    "        if row['total_revenue']>=upper or row['total_revenue']<=lower:\n",
    "            tmp_df.loc[i,'result'] = tmp_df.loc[i,'total_revenue'] \n",
    "    total_df = pd.concat([total_df, tmp_df])\n",
    "total_df"
   ]
  },
  {
   "cell_type": "code",
   "execution_count": 122,
   "metadata": {},
   "outputs": [],
   "source": [
    "total_df.to_excel('qwess.xlsx')"
   ]
  },
  {
   "cell_type": "code",
   "execution_count": null,
   "metadata": {},
   "outputs": [],
   "source": [
    "df_ = pd.merge(df, df_f,  how = 'left' , left_on=['subs_id', 'region', 'm_diff'], right_on = ['subs_id','region', 'm_diff'] )\n",
    "df_"
   ]
  },
  {
   "cell_type": "code",
   "execution_count": 128,
   "metadata": {},
   "outputs": [],
   "source": [
    "df_.to_excel('zxcf.xlsx')"
   ]
  }
 ],
 "metadata": {
  "kernelspec": {
   "display_name": "base",
   "language": "python",
   "name": "python3"
  },
  "language_info": {
   "codemirror_mode": {
    "name": "ipython",
    "version": 3
   },
   "file_extension": ".py",
   "mimetype": "text/x-python",
   "name": "python",
   "nbconvert_exporter": "python",
   "pygments_lexer": "ipython3",
   "version": "3.9.13"
  },
  "orig_nbformat": 4
 },
 "nbformat": 4,
 "nbformat_minor": 2
}
