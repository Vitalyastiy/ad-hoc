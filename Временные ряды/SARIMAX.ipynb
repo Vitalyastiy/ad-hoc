{
 "cells": [
  {
   "cell_type": "code",
   "execution_count": 1,
   "metadata": {},
   "outputs": [],
   "source": [
    "import warnings\n",
    "import itertools\n",
    "import numpy as np\n",
    "import matplotlib.pyplot as plt\n",
    "warnings.filterwarnings(\"ignore\")\n",
    "plt.style.use('fivethirtyeight')\n",
    "import pandas as pd\n",
    "import statsmodels.api as sm\n",
    "import matplotlib\n",
    "import seaborn as sns \n",
    "from sklearn.metrics import mean_squared_error\n",
    "matplotlib.rcParams['axes.labelsize'] = 14\n",
    "matplotlib.rcParams['xtick.labelsize'] = 12\n",
    "matplotlib.rcParams['ytick.labelsize'] = 12\n",
    "#matplotlib.rcParams['text.color'] = 'G'\n",
    "df = pd.read_excel(\"прогноз.xlsx\")"
   ]
  },
  {
   "cell_type": "code",
   "execution_count": null,
   "metadata": {},
   "outputs": [],
   "source": [
    "sns.set(rc={'figure.figsize':(11.7,5.27)})\n",
    "sns.lineplot(x = \"Атрибут\",\n",
    "             y = \"Значение\",\n",
    "             hue = \"Оператор\",\n",
    "             data = df,\n",
    "             palette=['red', 'yellow', 'green', 'black']);"
   ]
  },
  {
   "attachments": {},
   "cell_type": "markdown",
   "metadata": {},
   "source": [
    "Нулевая гипотеза расширенного теста Дики-Фуллера (ADF) заключается в том, что временной ряд не является стационарным. Таким образом, если p-значение теста ADF меньше уровня значимости (0,05), то мы отвергнем нулевую гипотезу и сделаем вывод, что временной ряд определенно стационарен. Как мы видим, p-значение более значимо, чем уровень значимости. если данные стационарны - преобразование бокса кокса\n"
   ]
  },
  {
   "cell_type": "code",
   "execution_count": 3,
   "metadata": {},
   "outputs": [
    {
     "name": "stdout",
     "output_type": "stream",
     "text": [
      "Augmented Dickey-Fuller Statistic: -1.053193\n",
      "p-value: 0.733373\n"
     ]
    }
   ],
   "source": [
    "# проверка является ли ряд стационарным\n",
    "\n",
    "from statsmodels.tsa.stattools import adfuller \n",
    "from numpy import log \n",
    "import pandas as pd \n",
    " \n",
    "mydata = pd.read_excel('прогноз.xlsx', names = ['value'], header = 0) \n",
    " \n",
    "res = adfuller( mydata.value.dropna()) \n",
    "print('Augmented Dickey-Fuller Statistic: %f' % res[0]) \n",
    "print('p-value: %f' % res[1])\n"
   ]
  },
  {
   "cell_type": "code",
   "execution_count": 27,
   "metadata": {},
   "outputs": [],
   "source": [
    "#import numpy as np\n",
    "#y = np.log(y)\n",
    "#y"
   ]
  },
  {
   "cell_type": "code",
   "execution_count": null,
   "metadata": {},
   "outputs": [],
   "source": [
    "y = df.set_index([\"Атрибут\"])\n",
    "y.head(5)"
   ]
  },
  {
   "cell_type": "code",
   "execution_count": 5,
   "metadata": {},
   "outputs": [],
   "source": [
    "y_t2 = df[df['Оператор']=='Tele2'].set_index([\"Атрибут\"])\n",
    "y_t2.drop('Оператор', axis= 1 , inplace= True ) \n",
    "\n",
    "#y_mts = df.query(\"Оператор == 'МТС'\").set_index([\"Атрибут\"])\n",
    "#y_mts.drop('Оператор', axis= 1 , inplace= True )\n",
    "\n",
    "#y_bee = df.loc[df['Оператор'] == 'Билайн'].set_index([\"Атрибут\"])\n",
    "#y_bee.drop('Оператор', axis= 1 , inplace= True )\n",
    "\n",
    "#y_mf = df[df.Оператор.str.startswith('Мегафон')].set_index([\"Атрибут\"])\n",
    "#y_mf.drop('Оператор', axis= 1 , inplace= True )\n",
    "\n"
   ]
  },
  {
   "cell_type": "code",
   "execution_count": null,
   "metadata": {},
   "outputs": [],
   "source": [
    "#трендб шум сезон\n",
    "from pylab import rcParams\n",
    "rcParams['figure.figsize'] = 18, 8\n",
    "decomposition = sm.tsa.seasonal_decompose(y_t2, model='additive')\n",
    "#decomposition1 = sm.tsa.seasonal_decompose(y_mts, model='additive')\n",
    "#decomposition2 = sm.tsa.seasonal_decompose(y_bee, model='additive')\n",
    "#decomposition3 = sm.tsa.seasonal_decompose(y_mf, model='additive')\n",
    "fig = decomposition.plot()\n",
    "#fig = decomposition1.plot()\n",
    "#fig = decomposition2.plot()\n",
    "#fig = decomposition3.plot()\n",
    "plt.show()"
   ]
  },
  {
   "cell_type": "code",
   "execution_count": 7,
   "metadata": {},
   "outputs": [
    {
     "name": "stdout",
     "output_type": "stream",
     "text": [
      "Examples of parameter for SARIMA...\n",
      "SARIMAX: (0, 0, 1) x (0, 0, 1, 12)\n",
      "SARIMAX: (0, 0, 1) x (0, 1, 0, 12)\n",
      "SARIMAX: (0, 1, 0) x (0, 1, 1, 12)\n",
      "SARIMAX: (0, 1, 0) x (1, 0, 0, 12)\n"
     ]
    }
   ],
   "source": [
    "#подбираем параметры для модели\n",
    "p = d = q = range(0, 2)\n",
    "pdq = list(itertools.product(p, d, q))\n",
    "seasonal_pdq = [(x[0], x[1], x[2], 12) for x in list(itertools.product(p, d, q))]\n",
    "print('Examples of parameter for SARIMA...')\n",
    "print('SARIMAX: {} x {}'.format(pdq[1], seasonal_pdq[1]))\n",
    "print('SARIMAX: {} x {}'.format(pdq[1], seasonal_pdq[2]))\n",
    "print('SARIMAX: {} x {}'.format(pdq[2], seasonal_pdq[3]))\n",
    "print('SARIMAX: {} x {}'.format(pdq[2], seasonal_pdq[4]))"
   ]
  },
  {
   "attachments": {},
   "cell_type": "markdown",
   "metadata": {},
   "source": [
    "Подбор параметров и прогноз "
   ]
  },
  {
   "cell_type": "code",
   "execution_count": null,
   "metadata": {},
   "outputs": [],
   "source": [
    "#запускаем перебеор\n",
    "for param in pdq:\n",
    "    for param_seasonal in seasonal_pdq:\n",
    "        try:\n",
    "            mod = sm.tsa.statespace.SARIMAX(y_t2,order=param,seasonal_order=param_seasonal,enforce_stationarity=False,enforce_invertibility=False)\n",
    "            results = mod.fit()\n",
    "            print('ARIMA{}x{}12 - AIC:{}'.format(param,param_seasonal,results.aic))\n",
    "        except: \n",
    "            continue"
   ]
  },
  {
   "cell_type": "code",
   "execution_count": null,
   "metadata": {},
   "outputs": [],
   "source": [
    "mod = sm.tsa.statespace.SARIMAX(y_t2,\n",
    "                                order=(0, 1, 1),\n",
    "                                seasonal_order=(1, 1, 1,12 ),\n",
    "                                #enforce_stationarity=False,\n",
    "                                enforce_invertibility=False)\n",
    "results_t2 = mod.fit()\n",
    "print(results.summary().tables[1])"
   ]
  },
  {
   "cell_type": "code",
   "execution_count": null,
   "metadata": {},
   "outputs": [],
   "source": [
    "#диагностика\n",
    "results_t2.plot_diagnostics(figsize=(18, 8))\n",
    "\n",
    "plt.show()"
   ]
  },
  {
   "cell_type": "code",
   "execution_count": null,
   "metadata": {},
   "outputs": [],
   "source": [
    "# тест на исторических данных \n",
    "pred = results_t2.get_prediction(start=pd.to_datetime('2022-02-01'), dynamic=False)\n",
    "pred_ci = pred.conf_int()\n",
    "ax = y_t2['2020':].plot(label='observed')\n",
    "pred.predicted_mean.plot(ax=ax, label='One-step ahead Forecast', alpha=.7, figsize=(14, 4))\n",
    "ax.fill_between(pred_ci.index,\n",
    "                pred_ci.iloc[:, 0],\n",
    "                pred_ci.iloc[:, 1], color='k', alpha=.2)\n",
    "ax.set_xlabel('Date')\n",
    "ax.set_ylabel('NPS')\n",
    "plt.legend()\n",
    "plt.title('Tele2')\n",
    "plt.show()"
   ]
  },
  {
   "cell_type": "code",
   "execution_count": 12,
   "metadata": {},
   "outputs": [
    {
     "name": "stdout",
     "output_type": "stream",
     "text": [
      "The Mean Squared Error is 0.00017\n",
      "The Root Mean Squared Error is 0.013\n"
     ]
    }
   ],
   "source": [
    "# ошибка\n",
    "y_forecasted = pred.predicted_mean\n",
    "y_truth = y_t2['2022-02-01':]\n",
    "mse = ((y_forecasted - y_truth.Значение) ** 2).mean()\n",
    "print('The Mean Squared Error is {}'.format(round(mse, 5)))\n",
    "print('The Root Mean Squared Error is {}'.format(round(np.sqrt(mse), 3)))"
   ]
  },
  {
   "cell_type": "code",
   "execution_count": 13,
   "metadata": {},
   "outputs": [
    {
     "data": {
      "text/plain": [
       "0.00016896541620418026"
      ]
     },
     "execution_count": 13,
     "metadata": {},
     "output_type": "execute_result"
    }
   ],
   "source": [
    "from sklearn.metrics import mean_squared_error\n",
    "mean_squared_error(y_truth.Значение , y_forecasted)"
   ]
  },
  {
   "cell_type": "code",
   "execution_count": null,
   "metadata": {},
   "outputs": [],
   "source": [
    "pred_uc = results.get_forecast(steps=12)\n",
    "pred_ci = pred_uc.conf_int()\n",
    "ax = y_t2.plot(label='observed', figsize=(14, 4))\n",
    "pred_uc.predicted_mean.plot(ax=ax, label='Forecast')\n",
    "ax.fill_between(pred_ci.index,\n",
    "                pred_ci.iloc[:, 0],\n",
    "                pred_ci.iloc[:, 1], color='k', alpha=.20)\n",
    "ax.set_xlabel('Date')\n",
    "ax.set_ylabel('nps')\n",
    "plt.legend()\n",
    "plt.show()"
   ]
  },
  {
   "attachments": {},
   "cell_type": "markdown",
   "metadata": {},
   "source": [
    "2022"
   ]
  },
  {
   "cell_type": "code",
   "execution_count": null,
   "metadata": {},
   "outputs": [],
   "source": [
    "y_forecasted = pred.predicted_mean\n",
    "y_forecasted.head(13)"
   ]
  },
  {
   "cell_type": "code",
   "execution_count": null,
   "metadata": {},
   "outputs": [],
   "source": [
    "y_truth.Значение"
   ]
  },
  {
   "cell_type": "code",
   "execution_count": null,
   "metadata": {},
   "outputs": [],
   "source": [
    "yy = y_truth.Значение\n",
    "xx = y_forecasted\n",
    "pr2022 = pd.concat([yy, xx], axis= 1 )\n",
    "pr2022['diff'] = pr2022['Значение'] - pr2022['predicted_mean']\n",
    "pr2022"
   ]
  },
  {
   "cell_type": "code",
   "execution_count": 165,
   "metadata": {},
   "outputs": [],
   "source": [
    "#pr2022.to_excel('t2_forecast 2022.xlsx')"
   ]
  },
  {
   "attachments": {},
   "cell_type": "markdown",
   "metadata": {},
   "source": [
    "2023"
   ]
  },
  {
   "cell_type": "code",
   "execution_count": null,
   "metadata": {},
   "outputs": [],
   "source": [
    "a = pred_ci.head(12)\n",
    "a"
   ]
  },
  {
   "cell_type": "code",
   "execution_count": null,
   "metadata": {},
   "outputs": [],
   "source": [
    "#прогноз\n",
    "forecast = pred_uc.predicted_mean.head(12)\n",
    "forecast = pd.DataFrame(forecast)\n",
    "forecast"
   ]
  },
  {
   "cell_type": "code",
   "execution_count": null,
   "metadata": {},
   "outputs": [],
   "source": [
    "d =a.join(forecast)\n",
    "d"
   ]
  },
  {
   "cell_type": "code",
   "execution_count": 30,
   "metadata": {},
   "outputs": [],
   "source": [
    "#d.to_excel('t2_2023.xlsx')"
   ]
  }
 ],
 "metadata": {
  "kernelspec": {
   "display_name": "base",
   "language": "python",
   "name": "python3"
  },
  "language_info": {
   "codemirror_mode": {
    "name": "ipython",
    "version": 3
   },
   "file_extension": ".py",
   "mimetype": "text/x-python",
   "name": "python",
   "nbconvert_exporter": "python",
   "pygments_lexer": "ipython3",
   "version": "3.9.13"
  },
  "orig_nbformat": 4,
  "vscode": {
   "interpreter": {
    "hash": "d9acfe8064b338b087cf5b985d533c132426f668fd9f5be560d7a729870e8555"
   }
  }
 },
 "nbformat": 4,
 "nbformat_minor": 2
}
