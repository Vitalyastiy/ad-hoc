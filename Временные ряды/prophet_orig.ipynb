{
 "cells": [
  {
   "cell_type": "code",
   "execution_count": null,
   "metadata": {
    "ExecuteTime": {
     "end_time": "2019-03-16T12:24:27.351038Z",
     "start_time": "2019-03-16T12:24:27.347933Z"
    }
   },
   "outputs": [],
   "source": [
    "# Прогнозирование аудитории пророком на данных из clickhouse\n",
    "# https://facebook.github.io/prophet/"
   ]
  },
  {
   "cell_type": "code",
   "execution_count": null,
   "metadata": {
    "ExecuteTime": {
     "end_time": "2019-04-24T10:07:46.197278Z",
     "start_time": "2019-04-24T10:07:45.667014Z"
    }
   },
   "outputs": [],
   "source": [
    "# Импортируем либы\n",
    "import pandas as pd\n",
    "import numpy as np\n",
    "import pandahouse as ph\n",
    "from datetime import date\n",
    "import holidays\n",
    "from fbprophet import Prophet"
   ]
  },
  {
   "cell_type": "code",
   "execution_count": null,
   "metadata": {},
   "outputs": [],
   "source": [
    "# Объявляем параметры подключения к clickhouse\n",
    "connection = dict(database='test',\n",
    "                  host='https://clickhouse.lab.karpov.courses',\n",
    "                  user='student-rw',\n",
    "                  password='656e2b0c9c')"
   ]
  },
  {
   "cell_type": "code",
   "execution_count": null,
   "metadata": {},
   "outputs": [],
   "source": [
    "# Вкидываем данные (первый столбец - даты (ds), второй - уники (y))\n",
    "query = \"\"\"\n",
    "SELECT\n",
    "    ds,\n",
    "    uniqExact(DeviceID) AS y\n",
    "FROM test.installs\n",
    "WHERE \n",
    "        Source == 'Source_27'\n",
    "    AND Platform == 'android'\n",
    "GROUP BY CAST(InstallationDate AS Date) AS ds\n",
    "ORDER BY ds ASC\n",
    "\"\"\"\n",
    "df = ph.read_clickhouse(query, connection=connection)\n",
    "df['ds'] = pd.to_datetime(df.ds)\n",
    "df"
   ]
  },
  {
   "cell_type": "code",
   "execution_count": null,
   "metadata": {
    "ExecuteTime": {
     "end_time": "2019-03-16T12:24:27.984639Z",
     "start_time": "2019-03-16T12:24:27.961997Z"
    }
   },
   "outputs": [],
   "source": [
    "# Вкидываем праздники, для их учёта моделькой\n",
    "holidays_dict = holidays.RU(years=(2019, 2020, 2021))\n",
    "df_holidays = pd.DataFrame.from_dict(holidays_dict, orient='index') \\\n",
    "    .reset_index()\n",
    "df_holidays = df_holidays.rename({'index':'ds', 0:'holiday'}, axis ='columns')\n",
    "df_holidays['ds'] = pd.to_datetime(df_holidays.ds)\n",
    "df_holidays = df_holidays.sort_values(by=['ds'])\n",
    "df_holidays = df_holidays.reset_index(drop=True)\n",
    "df_holidays"
   ]
  },
  {
   "cell_type": "code",
   "execution_count": null,
   "metadata": {
    "ExecuteTime": {
     "end_time": "2019-03-16T12:24:29.831631Z",
     "start_time": "2019-03-16T12:24:27.987093Z"
    }
   },
   "outputs": [],
   "source": [
    "# Период, который надо отрезать и предсказать (проверка модели)\n",
    "predictions = 30\n",
    "\n",
    "# Отрезаем из обучающей выборки последние N точек, чтобы измерить на них качество\n",
    "train_df = df[:-predictions]"
   ]
  },
  {
   "cell_type": "code",
   "execution_count": null,
   "metadata": {
    "ExecuteTime": {
     "end_time": "2019-03-16T12:24:30.254669Z",
     "start_time": "2019-03-16T12:24:29.834047Z"
    }
   },
   "outputs": [],
   "source": [
    "# Настраиваем prophet – говорим ему учитывать праздники и сезонности\n",
    "m = Prophet(holidays=df_holidays, daily_seasonality=False, weekly_seasonality=True, yearly_seasonality=False)\n",
    "m.fit(train_df)"
   ]
  },
  {
   "cell_type": "code",
   "execution_count": null,
   "metadata": {
    "ExecuteTime": {
     "end_time": "2019-03-16T12:24:41.146587Z",
     "start_time": "2019-03-16T12:24:30.257168Z"
    }
   },
   "outputs": [],
   "source": [
    "# Предсказываем 30 дней\n",
    "future = m.make_future_dataframe(periods=predictions)\n",
    "forecast = m.predict(future)"
   ]
  },
  {
   "cell_type": "code",
   "execution_count": null,
   "metadata": {
    "ExecuteTime": {
     "end_time": "2019-03-16T12:24:41.625365Z",
     "start_time": "2019-03-16T12:24:41.149031Z"
    }
   },
   "outputs": [],
   "source": [
    "# Смотрим, что предсказалось\n",
    "m.plot(forecast);"
   ]
  },
  {
   "cell_type": "code",
   "execution_count": null,
   "metadata": {
    "ExecuteTime": {
     "end_time": "2019-03-16T12:24:45.834223Z",
     "start_time": "2019-03-16T12:24:41.628018Z"
    }
   },
   "outputs": [],
   "source": [
    "# Смотрим на сезонности\n",
    "m.plot_components(forecast);"
   ]
  },
  {
   "cell_type": "code",
   "execution_count": null,
   "metadata": {
    "ExecuteTime": {
     "end_time": "2019-03-16T12:24:46.353537Z",
     "start_time": "2019-03-16T12:24:45.836695Z"
    }
   },
   "outputs": [],
   "source": [
    "# Рисуем график с границами прогноза\n",
    "from plotly.offline import download_plotlyjs, init_notebook_mode, plot, iplot\n",
    "import plotly.graph_objs as go\n",
    "init_notebook_mode(connected = True)\n",
    "\n",
    "iplot([\n",
    "    go.Scatter(x=df['ds'], y=df['y'], name='fact'),\n",
    "    go.Scatter(x=forecast['ds'], y=forecast['yhat'], name='prediction'),\n",
    "    go.Scatter(x=forecast['ds'], y=forecast['yhat_upper'], fill='tonexty', mode='none', name='upper'),\n",
    "    go.Scatter(x=forecast['ds'], y=forecast['yhat_lower'], fill='tonexty', mode='none', name='lower'),\n",
    "    go.Scatter(x=forecast['ds'], y=forecast['trend'], name='trend')\n",
    "])"
   ]
  },
  {
   "cell_type": "code",
   "execution_count": null,
   "metadata": {
    "ExecuteTime": {
     "end_time": "2019-03-16T12:24:46.377851Z",
     "start_time": "2019-03-16T12:24:46.355861Z"
    }
   },
   "outputs": [],
   "source": [
    "# Смотрим на ошибки модели\n",
    "cmp_df = forecast.set_index('ds')[['yhat', 'yhat_lower', 'yhat_upper']].join(df.set_index('ds'))\n",
    "cmp_df['e'] = cmp_df['y'] - cmp_df['yhat']\n",
    "cmp_df['p'] = 100*cmp_df['e']/cmp_df['y']\n",
    "print('MAPE (средняя абсолютная ошибка в процентах) – ', np.mean(abs(cmp_df[-predictions:]['p'])),'%')\n",
    "print('MAE (средняя абсолютная ошибка) – ', np.mean(abs(cmp_df[-predictions:]['e'])))"
   ]
  },
  {
   "cell_type": "code",
   "execution_count": null,
   "metadata": {
    "ExecuteTime": {
     "end_time": "2019-03-16T12:25:06.741876Z",
     "start_time": "2019-03-16T12:24:46.380449Z"
    }
   },
   "outputs": [],
   "source": [
    "# Прогнозируем на полный период (указываем количество дней)\n",
    "prediction_days = 90\n",
    "final_train_df = df\n",
    "f = Prophet(holidays=df_holidays, daily_seasonality=False, weekly_seasonality=True, yearly_seasonality=False)\n",
    "f.fit(final_train_df)\n",
    "final_future = f.make_future_dataframe(periods=prediction_days)\n",
    "final_forecast = f.predict(final_future)"
   ]
  },
  {
   "cell_type": "code",
   "execution_count": null,
   "metadata": {},
   "outputs": [],
   "source": [
    "final_forecast"
   ]
  },
  {
   "cell_type": "code",
   "execution_count": null,
   "metadata": {
    "ExecuteTime": {
     "end_time": "2019-03-16T12:25:07.191829Z",
     "start_time": "2019-03-16T12:25:06.744283Z"
    }
   },
   "outputs": [],
   "source": [
    "# Смотрим, что предсказалось на полный период\n",
    "f.plot(final_forecast);"
   ]
  },
  {
   "cell_type": "code",
   "execution_count": null,
   "metadata": {
    "ExecuteTime": {
     "end_time": "2019-03-16T12:25:08.019705Z",
     "start_time": "2019-03-16T12:25:07.194263Z"
    }
   },
   "outputs": [],
   "source": [
    "# Рисуем график с границами прогноза на полном периоде\n",
    "iplot([\n",
    "    go.Scatter(x=df['ds'], y=df['y'], name='fact'),\n",
    "    go.Scatter(x=final_forecast['ds'], y=final_forecast['yhat'], name='yhat'),\n",
    "    go.Scatter(x=final_forecast['ds'], y=final_forecast['yhat_upper'], fill='tonexty', mode='none', name='upper'),\n",
    "    go.Scatter(x=final_forecast['ds'], y=final_forecast['yhat_lower'], fill='tonexty', mode='none', name='lower'),\n",
    "    go.Scatter(x=final_forecast['ds'], y=final_forecast['trend'], name='trend')\n",
    "])"
   ]
  },
  {
   "cell_type": "code",
   "execution_count": null,
   "metadata": {
    "ExecuteTime": {
     "end_time": "2019-03-16T12:25:10.506760Z",
     "start_time": "2019-03-16T12:25:08.022456Z"
    }
   },
   "outputs": [],
   "source": [
    "# Выгружаем прогноз в эксельку. Спрогнозированное значение лежит в столбце yhat\n",
    "final_forecast.to_excel(\"./app_forecast.xlsx\", sheet_name='Data', index=False, encoding=\"cp1251\")"
   ]
  },
  {
   "cell_type": "code",
   "execution_count": null,
   "metadata": {},
   "outputs": [],
   "source": []
  }
 ],
 "metadata": {
  "kernelspec": {
   "display_name": "Python 3",
   "language": "python",
   "name": "python3"
  },
  "language_info": {
   "codemirror_mode": {
    "name": "ipython",
    "version": 3
   },
   "file_extension": ".py",
   "mimetype": "text/x-python",
   "name": "python",
   "nbconvert_exporter": "python",
   "pygments_lexer": "ipython3",
   "version": "3.6.9"
  }
 },
 "nbformat": 4,
 "nbformat_minor": 4
}
