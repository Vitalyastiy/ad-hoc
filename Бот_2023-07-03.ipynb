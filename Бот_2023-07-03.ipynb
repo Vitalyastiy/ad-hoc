{
 "cells": [
  {
   "cell_type": "code",
   "execution_count": 1,
   "metadata": {},
   "outputs": [
    {
     "name": "stderr",
     "output_type": "stream",
     "text": [
      "c:\\Users\\vitaly.flerin\\Miniconda3\\lib\\site-packages\\numpy\\_distributor_init.py:30: UserWarning: loaded more than 1 DLL from .libs:\n",
      "c:\\Users\\vitaly.flerin\\Miniconda3\\lib\\site-packages\\numpy\\.libs\\libopenblas.4SP5SUA7CBGXUEOC35YP2ASOICYYEQZZ.gfortran-win_amd64.dll\n",
      "c:\\Users\\vitaly.flerin\\Miniconda3\\lib\\site-packages\\numpy\\.libs\\libopenblas64__v0.3.21-gcc_10_3_0.dll\n",
      "  warnings.warn(\"loaded more than 1 DLL from .libs:\"\n"
     ]
    }
   ],
   "source": [
    "import psycopg2\n",
    "import pandas as pd\n",
    "import numpy as np\n",
    "import matplotlib.pyplot as plt\n",
    "import seaborn as sns\n",
    "import io\n",
    "from tabulate import tabulate\n",
    "import schedule\n",
    "import time\n",
    "from datetime import date, timedelta\n",
    "import win32com.client as win32\n",
    "import teradatasql\n",
    "import openpyxl\n",
    "import matplotlib.pyplot as plt\n",
    "import telebot\n",
    "import logging\n",
    "import types\n"
   ]
  },
  {
   "cell_type": "code",
   "execution_count": 2,
   "metadata": {},
   "outputs": [
    {
     "name": "stderr",
     "output_type": "stream",
     "text": [
      "C:\\Users\\vitaly.flerin\\AppData\\Local\\Temp\\ipykernel_14672\\3819710874.py:5: UserWarning: pandas only supports SQLAlchemy connectable (engine/connection) or database string URI or sqlite3 DBAPI2 connection. Other DBAPI2 objects are not tested. Please consider using SQLAlchemy.\n",
      "  df1 = pd.read_sql(query, connect)\n"
     ]
    }
   ],
   "source": [
    "user=input()\n",
    "password=input()\n",
    "query = ''' SELECT * FROM uat_ca.mc_logs WHERE CAST(logdate AS DATE) = CURRENT_DATE;'''#and processname = 'nps_187\n",
    "with teradatasql.connect(host=\"td2800.corp.tele2.ru\", user=user, password=password,logmech=\"ldap\", tmode=\"TERA\" ) as connect:\n",
    "    df1 = pd.read_sql(query, connect)"
   ]
  },
  {
   "cell_type": "code",
   "execution_count": 3,
   "metadata": {},
   "outputs": [
    {
     "data": {
      "text/html": [
       "<div>\n",
       "<style scoped>\n",
       "    .dataframe tbody tr th:only-of-type {\n",
       "        vertical-align: middle;\n",
       "    }\n",
       "\n",
       "    .dataframe tbody tr th {\n",
       "        vertical-align: top;\n",
       "    }\n",
       "\n",
       "    .dataframe thead th {\n",
       "        text-align: right;\n",
       "    }\n",
       "</style>\n",
       "<table border=\"1\" class=\"dataframe\">\n",
       "  <thead>\n",
       "    <tr style=\"text-align: right;\">\n",
       "      <th></th>\n",
       "      <th>logdate</th>\n",
       "      <th>processtype</th>\n",
       "      <th>processname</th>\n",
       "      <th>logcomment</th>\n",
       "      <th>logtype</th>\n",
       "      <th>sid</th>\n",
       "      <th>loadid</th>\n",
       "    </tr>\n",
       "  </thead>\n",
       "  <tbody>\n",
       "    <tr>\n",
       "      <th>0</th>\n",
       "      <td>2023-07-10 06:05:55.340</td>\n",
       "      <td>PROCEDURE IN RUN</td>\n",
       "      <td>nps_190</td>\n",
       "      <td>Строк по долетам: 0</td>\n",
       "      <td>NaN</td>\n",
       "      <td>118236241</td>\n",
       "      <td>15355</td>\n",
       "    </tr>\n",
       "    <tr>\n",
       "      <th>1</th>\n",
       "      <td>2023-07-10 06:20:04.390</td>\n",
       "      <td>PROCEDURE IN RUN</td>\n",
       "      <td>nps_detail</td>\n",
       "      <td>START: nps_detail</td>\n",
       "      <td>0.0</td>\n",
       "      <td>118236241</td>\n",
       "      <td>15358</td>\n",
       "    </tr>\n",
       "    <tr>\n",
       "      <th>2</th>\n",
       "      <td>2023-07-10 12:29:58.400</td>\n",
       "      <td>PROCEDURE IN RUN</td>\n",
       "      <td>mon_soa_cuvo</td>\n",
       "      <td>END: 417</td>\n",
       "      <td>1.0</td>\n",
       "      <td>118272823</td>\n",
       "      <td>15382</td>\n",
       "    </tr>\n",
       "    <tr>\n",
       "      <th>3</th>\n",
       "      <td>2023-07-10 06:49:15.890</td>\n",
       "      <td>PROCEDURE IN RUN</td>\n",
       "      <td>nps_473_as</td>\n",
       "      <td>INTERVAL_DATE 03.07.2023_10.07.2023 Всего стро...</td>\n",
       "      <td>NaN</td>\n",
       "      <td>118236392</td>\n",
       "      <td>15369</td>\n",
       "    </tr>\n",
       "    <tr>\n",
       "      <th>4</th>\n",
       "      <td>2023-07-10 05:56:38.520</td>\n",
       "      <td>PROCEDURE IN RUN</td>\n",
       "      <td>nps_mi_2022</td>\n",
       "      <td>Строк по долетам: 141 fin - 0</td>\n",
       "      <td>NaN</td>\n",
       "      <td>118236241</td>\n",
       "      <td>15352</td>\n",
       "    </tr>\n",
       "    <tr>\n",
       "      <th>...</th>\n",
       "      <td>...</td>\n",
       "      <td>...</td>\n",
       "      <td>...</td>\n",
       "      <td>...</td>\n",
       "      <td>...</td>\n",
       "      <td>...</td>\n",
       "      <td>...</td>\n",
       "    </tr>\n",
       "    <tr>\n",
       "      <th>144</th>\n",
       "      <td>2023-07-10 06:29:00.660</td>\n",
       "      <td>PROCEDURE IN RUN</td>\n",
       "      <td>nps_step0</td>\n",
       "      <td>START</td>\n",
       "      <td>0.0</td>\n",
       "      <td>118242470</td>\n",
       "      <td>15362</td>\n",
       "    </tr>\n",
       "    <tr>\n",
       "      <th>145</th>\n",
       "      <td>2023-07-10 06:52:44.780</td>\n",
       "      <td>PROCEDURE IN RUN</td>\n",
       "      <td>nps_187</td>\n",
       "      <td>INTERVAL_DATE 03.07.2023_10.07.2023 Всего стро...</td>\n",
       "      <td>NaN</td>\n",
       "      <td>118245673</td>\n",
       "      <td>15370</td>\n",
       "    </tr>\n",
       "    <tr>\n",
       "      <th>146</th>\n",
       "      <td>2023-07-10 12:28:14.060</td>\n",
       "      <td>PROCEDURE IN RUN</td>\n",
       "      <td>mon_soa_cuvo</td>\n",
       "      <td>Рассчитано дней: 185 - 1</td>\n",
       "      <td>NaN</td>\n",
       "      <td>118272823</td>\n",
       "      <td>15381</td>\n",
       "    </tr>\n",
       "    <tr>\n",
       "      <th>147</th>\n",
       "      <td>2023-07-10 06:12:12.970</td>\n",
       "      <td>PROCEDURE IN RUN</td>\n",
       "      <td>nps_188</td>\n",
       "      <td>Строк без долетов: 1030</td>\n",
       "      <td>NaN</td>\n",
       "      <td>118236392</td>\n",
       "      <td>15356</td>\n",
       "    </tr>\n",
       "    <tr>\n",
       "      <th>148</th>\n",
       "      <td>2023-07-10 12:23:38.370</td>\n",
       "      <td>PROCEDURE IN RUN</td>\n",
       "      <td>mon_soa_cuvo</td>\n",
       "      <td>Рассчитано дней: 142 - 1</td>\n",
       "      <td>NaN</td>\n",
       "      <td>118272823</td>\n",
       "      <td>15379</td>\n",
       "    </tr>\n",
       "  </tbody>\n",
       "</table>\n",
       "<p>149 rows × 7 columns</p>\n",
       "</div>"
      ],
      "text/plain": [
       "                    logdate       processtype   processname   \n",
       "0   2023-07-10 06:05:55.340  PROCEDURE IN RUN       nps_190  \\\n",
       "1   2023-07-10 06:20:04.390  PROCEDURE IN RUN    nps_detail   \n",
       "2   2023-07-10 12:29:58.400  PROCEDURE IN RUN  mon_soa_cuvo   \n",
       "3   2023-07-10 06:49:15.890  PROCEDURE IN RUN    nps_473_as   \n",
       "4   2023-07-10 05:56:38.520  PROCEDURE IN RUN   nps_mi_2022   \n",
       "..                      ...               ...           ...   \n",
       "144 2023-07-10 06:29:00.660  PROCEDURE IN RUN     nps_step0   \n",
       "145 2023-07-10 06:52:44.780  PROCEDURE IN RUN       nps_187   \n",
       "146 2023-07-10 12:28:14.060  PROCEDURE IN RUN  mon_soa_cuvo   \n",
       "147 2023-07-10 06:12:12.970  PROCEDURE IN RUN       nps_188   \n",
       "148 2023-07-10 12:23:38.370  PROCEDURE IN RUN  mon_soa_cuvo   \n",
       "\n",
       "                                            logcomment  logtype        sid   \n",
       "0                                  Строк по долетам: 0      NaN  118236241  \\\n",
       "1                                    START: nps_detail      0.0  118236241   \n",
       "2                                             END: 417      1.0  118272823   \n",
       "3    INTERVAL_DATE 03.07.2023_10.07.2023 Всего стро...      NaN  118236392   \n",
       "4                        Строк по долетам: 141 fin - 0      NaN  118236241   \n",
       "..                                                 ...      ...        ...   \n",
       "144                                              START      0.0  118242470   \n",
       "145  INTERVAL_DATE 03.07.2023_10.07.2023 Всего стро...      NaN  118245673   \n",
       "146                           Рассчитано дней: 185 - 1      NaN  118272823   \n",
       "147                            Строк без долетов: 1030      NaN  118236392   \n",
       "148                           Рассчитано дней: 142 - 1      NaN  118272823   \n",
       "\n",
       "     loadid  \n",
       "0     15355  \n",
       "1     15358  \n",
       "2     15382  \n",
       "3     15369  \n",
       "4     15352  \n",
       "..      ...  \n",
       "144   15362  \n",
       "145   15370  \n",
       "146   15381  \n",
       "147   15356  \n",
       "148   15379  \n",
       "\n",
       "[149 rows x 7 columns]"
      ]
     },
     "execution_count": 3,
     "metadata": {},
     "output_type": "execute_result"
    }
   ],
   "source": [
    "df1"
   ]
  },
  {
   "cell_type": "code",
   "execution_count": 6,
   "metadata": {},
   "outputs": [
    {
     "name": "stderr",
     "output_type": "stream",
     "text": [
      "C:\\Users\\vitaly.flerin\\AppData\\Local\\Temp\\ipykernel_14672\\2650851830.py:5: UserWarning: pandas only supports SQLAlchemy connectable (engine/connection) or database string URI or sqlite3 DBAPI2 connection. Other DBAPI2 objects are not tested. Please consider using SQLAlchemy.\n",
      "  df = pd.read_sql(query, connect)\n"
     ]
    }
   ],
   "source": [
    "user=input('Введите имя юзера')\n",
    "password=input()\n",
    "query = '''select * from uat_ca.vf_for_tg_test'''\n",
    "with teradatasql.connect(host=\"td2800.corp.tele2.ru\", user=user, password=password,logmech=\"ldap\", tmode=\"TERA\" ) as connect:\n",
    "    df = pd.read_sql(query, connect)"
   ]
  },
  {
   "attachments": {},
   "cell_type": "markdown",
   "metadata": {},
   "source": [
    "подготовка"
   ]
  },
  {
   "cell_type": "code",
   "execution_count": 7,
   "metadata": {},
   "outputs": [],
   "source": [
    "token = '5859647042:AAE0VTK8RlKrhFx7Mv9HeJS3tFK7aZ_J4W4'\n",
    "your_chat_id = '322276469'\n",
    "chat_id = '322276469'\n",
    "bot = telebot.TeleBot(token)\n",
    "#Даша =1482693734"
   ]
  },
  {
   "cell_type": "code",
   "execution_count": null,
   "metadata": {},
   "outputs": [],
   "source": [
    "#https://api.telegram.org/bot5859647042:AAE0VTK8RlKrhFx7Mv9HeJS3tFK7aZ_J4W4/getUpdates\n",
    "# как узнать свой чат ай ди, - пройти по ссылке\n",
    "bot = telebot.TeleBot(\"5859647042:AAE0VTK8RlKrhFx7Mv9HeJS3tFK7aZ_J4W4\")\n",
    "# Получаем список обновлений\n",
    "updates = bot.get_updates()\n",
    "# Получаем последнее обновление\n",
    "last_update = updates[-1]\n",
    "# Получаем chat_id из последнего обновления\n",
    "chat_id = last_update.message.chat.id\n",
    "print(chat_id)\n"
   ]
  },
  {
   "attachments": {},
   "cell_type": "markdown",
   "metadata": {},
   "source": [
    "отправить текст\n"
   ]
  },
  {
   "cell_type": "code",
   "execution_count": 6,
   "metadata": {},
   "outputs": [],
   "source": [
    "#просто текст\n",
    "#отправлем сообщение всем подписчикам\n",
    "#Получаем список всех подписчиков бота\n",
    "subscribers = bot.get_updates()\n",
    "test = 'Hello, me!'\n",
    "# Отправляем сообщение себе\n",
    "bot.send_message(chat_id=your_chat_id, text=test )\n",
    "# Отправляем сообщение каждому подписчику\n",
    "for subscriber in subscribers:\n",
    "    if subscriber and subscriber.message and subscriber.message.chat:\n",
    "        user_id = subscriber.message.chat.id\n",
    "        bot.send_message(chat_id=user_id, text=test)"
   ]
  },
  {
   "cell_type": "code",
   "execution_count": 7,
   "metadata": {},
   "outputs": [],
   "source": [
    "#csv\n",
    "# Преобразуем DataFrame в файл CSV в памяти\n",
    "df_csv = df.to_csv(index=False)\n",
    "output = io.BytesIO(df_csv.encode())\n",
    "# Получаем список всех подписчиков бота\n",
    "subscribers = bot.get_updates()\n",
    "# Отправляем сообщение каждому подписчику с файлом в виде прикрепления\n",
    "for subscriber in subscribers:\n",
    "    if subscriber and subscriber.message and subscriber.message.chat:\n",
    "        user_id = subscriber.message.chat.id\n",
    "        output.seek(0)\n",
    "        bot.send_document(chat_id=user_id, document=output.getvalue(), caption='example.csv')\n"
   ]
  },
  {
   "cell_type": "code",
   "execution_count": 48,
   "metadata": {},
   "outputs": [],
   "source": [
    "# Преобразуем DataFrame в таблицу Markdown\n",
    "table = tabulate(df, headers='keys', tablefmt='pipe', showindex=False)\n",
    "# Отправляем сообщение каждому подписчику с таблицей в виде текста\n",
    "subscribers = bot.get_updates()\n",
    "for subscriber in subscribers:\n",
    "    if subscriber and subscriber.message and subscriber.message.chat:\n",
    "        user_id = subscriber.message.chat.id\n",
    "        bot.send_message(chat_id=user_id, text=table)"
   ]
  },
  {
   "attachments": {},
   "cell_type": "markdown",
   "metadata": {},
   "source": [
    "Настройка бэка"
   ]
  },
  {
   "cell_type": "code",
   "execution_count": 10,
   "metadata": {},
   "outputs": [
    {
     "data": {
      "image/png": "[encoded data removed]",
      "text/plain": [
       "<Figure size 640x480 with 1 Axes>"
      ]
     },
     "metadata": {},
     "output_type": "display_data"
    },
    {
     "data": {
      "image/png": "[encoded data removed]",
      "text/plain": [
       "<Figure size 640x480 with 1 Axes>"
      ]
     },
     "metadata": {},
     "output_type": "display_data"
    }
   ],
   "source": [
    "\n",
    "from telegram import ReplyKeyboardMarkup, KeyboardButton\n",
    "\n",
    "@bot.message_handler(commands=['start', 'help'])\n",
    "def send_welcome(message):\n",
    "    if message.from_user.id != bot.get_me().id:\n",
    "        markup = ReplyKeyboardMarkup(row_width=2)\n",
    "        item1 = KeyboardButton('/hello')\n",
    "        item2 = KeyboardButton('/plot')\n",
    "        item2 = KeyboardButton('/inf')\n",
    "        markup.add(item1, item2)\n",
    "        bot.send_message(chat_id=message.chat.id, text=\"Привет!\", reply_markup=markup)\n",
    "\n",
    "@bot.message_handler(commands=['hello', 'inf'])\n",
    "def send_hello(message):\n",
    "    if message.from_user.id != bot.get_me().id:\n",
    "        t = \"Good day to you too!\" # Заменили данные на сообщение приветствия\n",
    "        t_str = str(t)\n",
    "        # Send the message to the user\n",
    "        bot.send_message(chat_id=message.chat.id, text=t_str)\n",
    "\n",
    "@bot.message_handler(commands=['plot'])\n",
    "def send_plot(message):\n",
    "    if message.from_user.id != bot.get_me().id:\n",
    "        # Создаем данные для графика       \n",
    "# построение графика\n",
    "        df['create_month'] = pd.to_datetime(df['create_month'])\n",
    "        df['year'] = df['create_month'].dt.year\n",
    "        df['month'] = df['create_month'].dt.month\n",
    "        df_pivot = df.pivot_table(index='month', columns='year', values='nps')\n",
    "        df_pivot.plot()\n",
    "        # настройка осей и легенды\n",
    "        plt.xlabel('Month')\n",
    "        plt.ylabel('NPS')\n",
    "        plt.title('NPS by Month and Year')\n",
    "        plt.legend(title='Year')\n",
    "        # Сохраняем график в объект io.BytesIO\n",
    "        plot_object = io.BytesIO()\n",
    "        plt.savefig(plot_object)\n",
    "        plot_object.seek(0) \n",
    "        # Отправляем график через бота\n",
    "        bot.send_photo(chat_id=message.chat.id, photo=plot_object)\n",
    "# Запускаем процесс диспетчеризации\n",
    "bot.polling()"
   ]
  },
  {
   "cell_type": "code",
   "execution_count": null,
   "metadata": {},
   "outputs": [],
   "source": []
  },
  {
   "cell_type": "code",
   "execution_count": null,
   "metadata": {},
   "outputs": [],
   "source": []
  },
  {
   "cell_type": "code",
   "execution_count": null,
   "metadata": {},
   "outputs": [],
   "source": [
    "бэк\n",
    "# Добавляем обработчики команд\n",
    "@bot.message_handler(commands=['start', 'help'])\n",
    "def send_welcome(message):\n",
    "    if message.from_user.id != bot.get_me().id:\n",
    "        bot.reply_to(message, \"Привет!\")\n",
    "\n",
    "@bot.message_handler(commands=['hello'])\n",
    "def send_hello(message):\n",
    "    if message.from_user.id != bot.get_me().id:\n",
    "        t = \"Good day to you too!\" # Заменили данные на сообщение приветствия\n",
    "        t_str = str(t)\n",
    "        # Send the message to the user\n",
    "        bot.send_message(chat_id=message.chat.id, text=t_str)\n",
    "\n",
    "@bot.message_handler(commands=['plot'])\n",
    "def send_plot(message):\n",
    "    if message.from_user.id != bot.get_me().id:\n",
    "        # Создаем данные для графика       \n",
    "# построение графика\n",
    "        df['create_month'] = pd.to_datetime(df['create_month'])\n",
    "        df['year'] = df['create_month'].dt.year\n",
    "        df['month'] = df['create_month'].dt.month\n",
    "        df_pivot = df.pivot_table(index='month', columns='year', values='nps')\n",
    "        df_pivot.plot()\n",
    "        # настройка осей и легенды\n",
    "        plt.xlabel('Month')\n",
    "        plt.ylabel('NPS')\n",
    "        plt.title('NPS by Month and Year')\n",
    "        plt.legend(title='Year')\n",
    "        # Сохраняем график в объект io.BytesIO\n",
    "        plot_object = io.BytesIO()\n",
    "        plt.savefig(plot_object)\n",
    "        plot_object.seek(0) \n",
    "        # Отправляем график через бота\n",
    "        bot.send_photo(chat_id=message.chat.id, photo=plot_object)\n",
    "# Запускаем процесс диспетчеризации\n",
    "bot.polling()"
   ]
  },
  {
   "cell_type": "code",
   "execution_count": null,
   "metadata": {},
   "outputs": [],
   "source": []
  },
  {
   "cell_type": "code",
   "execution_count": null,
   "metadata": {},
   "outputs": [],
   "source": []
  },
  {
   "cell_type": "code",
   "execution_count": 19,
   "metadata": {},
   "outputs": [
    {
     "name": "stdout",
     "output_type": "stream",
     "text": [
      "Нет подписчиков\n"
     ]
    }
   ],
   "source": [
    "subscribers = bot.get_updates()\n",
    "\n",
    "if subscribers:\n",
    "    test = 'Hello, subscribers!'\n",
    "    for subscriber in subscribers:\n",
    "        try:\n",
    "            user_id = subscriber.message.chat.id\n",
    "            bot.send_message(chat_id=user_id, text=test)\n",
    "            print('Сообщение отправлено пользователю с id:', user_id)\n",
    "        except Exception as e:\n",
    "            print('Не удалось отправить сообщение пользователю с id:', user_id)\n",
    "            print('Ошибка:', e)\n",
    "else:\n",
    "    print('Нет подписчиков')"
   ]
  },
  {
   "cell_type": "code",
   "execution_count": null,
   "metadata": {},
   "outputs": [],
   "source": []
  },
  {
   "cell_type": "code",
   "execution_count": null,
   "metadata": {},
   "outputs": [],
   "source": []
  },
  {
   "cell_type": "code",
   "execution_count": 4,
   "metadata": {},
   "outputs": [],
   "source": [
    "updates = bot.get_updates()\n",
    "for update in updates:\n",
    "    if update.message.reply_to_message:  # если текущее сообщение является ответом на другое сообщение\n",
    "        user = update.message.from_user  # получаем пользователя, которому отправлено сообщение\n",
    "        message = update.message.text  # получаем текст сообщения\n",
    "        print(f\"Пользователю {user.full_name} отправлено сообщение: {message}\")"
   ]
  },
  {
   "cell_type": "code",
   "execution_count": null,
   "metadata": {},
   "outputs": [],
   "source": []
  },
  {
   "cell_type": "code",
   "execution_count": null,
   "metadata": {},
   "outputs": [],
   "source": []
  },
  {
   "cell_type": "code",
   "execution_count": null,
   "metadata": {},
   "outputs": [],
   "source": []
  },
  {
   "cell_type": "code",
   "execution_count": null,
   "metadata": {},
   "outputs": [],
   "source": [
    "#https://thecode.media/front-back/?utm_source=telegram&utm_medium=social&utm_campaign=post\n",
    "# импортируем библиотеку telebot для работы с Telegram API\n",
    "import telebot\n",
    "# указываем токен для доступа к боту\n",
    "# создаем объект бота с токеном, полученным через @BotFather в Telegram\n",
    "bot = telebot.TeleBot('6303830366:AAGCHlbcOgB4vNruHvK8H-3c98YlgVMuLis')\n",
    "# приветственный текст(создаем переменную с приветственным текстом, который будет отправляться при команде /start)\n",
    "start_txt = 'Привет! Это журнал «Код». \\n\\nТеперь у бота появился бэкенд.'\n",
    "# обрабатываем старт бота\n",
    "@bot.message_handler(commands=['start']) # (декоратор, который определяет обработчик команды /start)\n",
    "def start(message): #( функция обработки команды /start)\n",
    "    # выводим приветственное сообщение\n",
    "    bot.send_message(message.from_user.id, start_txt, parse_mode='Markdown') #(отправляем приветственное сообщение пользователю, указав его id, текст сообщения и форматирование Markdown)\n",
    "# запускаем бота (— проверяем, запущен ли код как основная программа (не импортируется ли как модуль))\n",
    "\n",
    "if __name__ == '__main__': \n",
    "    while True:\n",
    "        # в бесконечном цикле постоянно опрашиваем бота — есть ли новые сообщения\n",
    "        try:\n",
    "            bot.polling(none_stop=True, interval=0) #(пытаемся опрашивать Telegram на наличие новых сообщений)\n",
    "        # если возникла ошибка — сообщаем про исключение и продолжаем работу\n",
    "        except Exception as e: \n",
    "            print('❌❌❌❌❌ Сработало исключение! ❌❌❌❌❌') #(если произошла какая-то ошибка, мы ее перехватываем и выводим в консоль, но продолжаем работу бота)"
   ]
  },
  {
   "cell_type": "code",
   "execution_count": null,
   "metadata": {},
   "outputs": [],
   "source": []
  }
 ],
 "metadata": {
  "kernelspec": {
   "display_name": "base",
   "language": "python",
   "name": "python3"
  },
  "language_info": {
   "codemirror_mode": {
    "name": "ipython",
    "version": 3
   },
   "file_extension": ".py",
   "mimetype": "text/x-python",
   "name": "python",
   "nbconvert_exporter": "python",
   "pygments_lexer": "ipython3",
   "version": "3.9.13"
  },
  "orig_nbformat": 4
 },
 "nbformat": 4,
 "nbformat_minor": 2
}
