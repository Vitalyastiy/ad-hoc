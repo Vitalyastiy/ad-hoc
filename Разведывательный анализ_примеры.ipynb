{
  "nbformat": 4,
  "nbformat_minor": 0,
  "metadata": {
    "colab": {
      "provenance": [],
      "authorship_tag": "ABX9TyNx1gG1OQhdI9LrI0uIR1ry",
      "include_colab_link": true
    },
    "kernelspec": {
      "name": "python3",
      "display_name": "Python 3"
    },
    "language_info": {
      "name": "python"
    }
  },
  "cells": [
    {
      "cell_type": "markdown",
      "metadata": {
        "id": "view-in-github",
        "colab_type": "text"
      },
      "source": [
        "<a href=\"https://colab.research.google.com/github/Vitalyastiy/ad-hoc/blob/main/%D0%A0%D0%B0%D0%B7%D0%B2%D0%B5%D0%B4%D1%8B%D0%B2%D0%B0%D1%82%D0%B5%D0%BB%D1%8C%D0%BD%D1%8B%D0%B9%20%D0%B0%D0%BD%D0%B0%D0%BB%D0%B8%D0%B7_%D0%BF%D1%80%D0%B8%D0%BC%D0%B5%D1%80%D1%8B.ipynb\" target=\"_parent\"><img src=\"https://colab.research.google.com/assets/colab-badge.svg\" alt=\"Open In Colab\"/></a>"
      ]
    },
    {
      "cell_type": "markdown",
      "source": [
        "https://uproger.com/10-bibliotek-python-dlya-avtomaticheskogo-analiza/"
      ],
      "metadata": {
        "id": "DqtIXBoqk8ss"
      }
    },
    {
      "cell_type": "code",
      "source": [
        "import numpy as np\n",
        "import pandas as pd\n",
        "import seaborn as sns\n",
        "import matplotlib.pyplot as plt\n",
        "plt.style.use('dark_background')"
      ],
      "metadata": {
        "id": "Og1ij0uQjZk4"
      },
      "execution_count": 2,
      "outputs": []
    },
    {
      "cell_type": "code",
      "source": [
        "iris=\"https://github.com/Vitalyastiy/courses/blob/main/kaggle/iris.csv?raw=true\"\n",
        "iris = pd.read_csv(iris)\n",
        "\n",
        "olympic = \"https://github.com/ernest-kiwele/120-years-of-olympic-history--athletes-and-results/blob/master/data/athlete_events.csv?raw=true\"\n",
        "olympic = pd.read_csv(olympic)"
      ],
      "metadata": {
        "id": "OyFFpdYhjSPQ"
      },
      "execution_count": 3,
      "outputs": []
    },
    {
      "cell_type": "markdown",
      "source": [
        "D-Tale предоставляет мощный и интуитивно понятный способ выполнения поискового анализа данных в структурах данных Pandas с минимальным количеством кода. Это упрощает рабочий процесс поиска данных и позволяет вам более эффективно получать информацию и принимать решения, основанные на данных."
      ],
      "metadata": {
        "id": "nGaxs8atkExo"
      }
    },
    {
      "cell_type": "code",
      "source": [
        "#D-Tale – это библиотека Python, которая предоставляет интерактивный и удобный интерфейс для визуализации и анализа структур данных Pandas\n",
        "!pip install dtale\n",
        "import dtale\n",
        "import pandas as pd\n",
        "# Load your dataset into a Pandas DataFrame\n",
        "#df = pd.read_csv('your_dataset.csv')\n",
        "# Generate a report using D-Tale\n",
        "dtale.show(iris)"
      ],
      "metadata": {
        "id": "x1Wuppl6jS9w"
      },
      "execution_count": null,
      "outputs": []
    },
    {
      "cell_type": "markdown",
      "source": [
        "Pandas-Profiling – это библиотека Python, которая предоставляет всеобъемлющий сводный отчёт о фрейме данных Pandas, предлагая подробную информацию и анализ данных. С помощью всего одной строки кода вы можете сгенерировать отчёт, включающий описательную статистику, проверки качества данных, корреляции, распределения, пропущенные значения и многое другое. Библиотека предназначена для эффективной работы даже с большими наборами данных, генерируя отчёты за считанные секунды."
      ],
      "metadata": {
        "id": "nAu_Q-1fkRQm"
      }
    },
    {
      "cell_type": "code",
      "source": [
        "!pip install pandas-profiling\n",
        "import pandas as pd\n",
        "from pandas_profiling import ProfileReport\n",
        "profile = ProfileReport(iris)\n",
        "profile = ProfileReport(iris, title='Pandas Profiling Report')\n",
        "profile.to_file(\"report.html\")"
      ],
      "metadata": {
        "id": "0OEmCy0lkb2l"
      },
      "execution_count": null,
      "outputs": []
    },
    {
      "cell_type": "markdown",
      "source": [
        "Sweetviz – это библиотека Python с открытым исходным кодом, которая упрощает процесс разведочного анализа данных (EDA), создавая красивые визуализации и сводные отчёты всего несколькими строками кода. Это позволяет вам быстро получить представление о вашем наборе данных, сравнить наборы данных и проанализировать целевые значения."
      ],
      "metadata": {
        "id": "YOOk7SAak6IM"
      }
    },
    {
      "cell_type": "code",
      "source": [
        "!pip install sweetviz\n",
        "import pandas as pd\n",
        "import sweetviz as sv\n",
        "report = sv.analyze(iris)\n",
        "report.show_html(\"report.html\")"
      ],
      "metadata": {
        "id": "2yjy5R8Ukh3l"
      },
      "execution_count": null,
      "outputs": []
    },
    {
      "cell_type": "code",
      "source": [
        "import pandas as pd\n",
        "import sweetviz as sv\n",
        "# Load the iris dataset from scikit-learn\n",
        "from sklearn.datasets import load_iris\n",
        "iris = load_iris()\n",
        "# Convert the dataset to a Pandas DataFrame\n",
        "iris_df = pd.DataFrame(data=iris.data, columns=iris.feature_names)\n",
        "# Add the target variable to the DataFrame\n",
        "iris_df['target'] = iris.target\n",
        "# Generate the report\n",
        "report = sv.analyze(iris_df)\n",
        "# Display the report as an HTML file\n",
        "report.show_html(\"iris_report.html\")"
      ],
      "metadata": {
        "colab": {
          "base_uri": "https://localhost:8080/"
        },
        "id": "Hzb0cU1Ml5tq",
        "outputId": "5b12f2df-5717-4371-cdcd-076b50896191"
      },
      "execution_count": 12,
      "outputs": [
        {
          "output_type": "stream",
          "name": "stdout",
          "text": [
            "Report iris_report.html was generated! NOTEBOOK/COLAB USERS: the web browser MAY not pop up, regardless, the report IS saved in your notebook/colab files.\n"
          ]
        }
      ]
    },
    {
      "cell_type": "markdown",
      "source": [
        "AutoViz – это библиотека Python, предоставляющая возможности автоматической визуализации данных, позволяющая пользователям визуализировать наборы данных любого размера всего одной строкой кода. Программа автоматически генерирует отчёты в различных форматах, включая HTML и Bokeh, и позволяет пользователям взаимодействовать с созданными HTML-отчетами."
      ],
      "metadata": {
        "id": "_UmAODO8ljqK"
      }
    },
    {
      "cell_type": "code",
      "source": [],
      "metadata": {
        "id": "MP9eEaNpmXiZ"
      },
      "execution_count": null,
      "outputs": []
    }
  ]
}